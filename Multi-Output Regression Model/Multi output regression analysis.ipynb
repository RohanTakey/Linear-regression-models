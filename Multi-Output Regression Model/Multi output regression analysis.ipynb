{
 "cells": [
  {
   "cell_type": "markdown",
   "metadata": {},
   "source": [
    "#  Multivariate Regression"
   ]
  },
  {
   "cell_type": "markdown",
   "metadata": {},
   "source": [
    "> Multivariate or Multi-Output regression are the problems having more than one vairable to predict.One of the such case is this [Gas Turbine CO and NOx Emission Data Set](https://archive.ics.uci.edu/ml/datasets/Gas+Turbine+CO+and+NOx+Emission+Data+Set 'Go To Dataset') .Here We need to predict the emission of two gases from the data available.\n",
    ">> We can use multivariate regression with different approches.The Basic idea of this can get from this blog. [ \\<blog\\> ](https://machinelearningmastery.com/multi-output-regression-models-with-python/ 'How to Develop Multi-Output Regression Models with Python')\n"
   ]
  },
  {
   "cell_type": "markdown",
   "metadata": {},
   "source": [
    "> The dataset contains 36733 instances of 11 sensor measures aggregated over one hour (by means of average or sum) from a gas turbine located in Turkey's north western region for the purpose of studying flue gas emissions, namely CO and NOx (NO + NO2).By contrast, this data is collected in another data range (01.01.2011 - 31.12.2015), includes gas turbine parameters (such as Turbine Inlet Temperature and Compressor Discharge pressure) in addition to the ambient variables.We create Machine Learning regression model for predicting this flue gas emissions."
   ]
  },
  {
   "cell_type": "markdown",
   "metadata": {},
   "source": [
    "> I used Linear regression and Decision Tree Regressor from sklearn module for multivariate analysis . For checking prediction of this method I seprately predicted the dependant variable one by one with the data and then checked the [combined result.](#conc)"
   ]
  },
  {
   "cell_type": "markdown",
   "metadata": {},
   "source": [
    "## Gas Turbine - NOX and CO emmission prediction"
   ]
  },
  {
   "cell_type": "markdown",
   "metadata": {},
   "source": [
    "## Table Of Content:\n",
    "* [Basic Data Preprocessing](#basic)\n",
    "1. [Data Discription](#description)\n",
    "2. [Outliers Handling](#outlier)\n",
    "* [Machine Learning Model](#model)\n",
    "1. [Multioutput Models](#multi-model)\n",
    "2. [Multioutput Model Results](#model_result)\n",
    "3. [Individual Target Model](#ind_model)\n",
    "4. [Individual Model Results](#ind_result)\n",
    "\n",
    "* [Conclusion](#conc)"
   ]
  },
  {
   "cell_type": "markdown",
   "metadata": {},
   "source": [
    "### <a id=\"basic\"></a> Basic Data preprocessing"
   ]
  },
  {
   "cell_type": "code",
   "execution_count": 1,
   "metadata": {},
   "outputs": [],
   "source": [
    "#Importing required Module:\n",
    "\n",
    "import pandas as pd # for basic Data handling using python.\n",
    "import numpy as np # for math operation.\n",
    "import warnings # clearning warnings about older version.\n",
    "import matplotlib.pyplot as plt # for handling plots\n",
    "import seaborn as sns # visulization \n",
    "import glob # handling files\n",
    "\n",
    "# Settng default parameters for notebook\n",
    "files=glob.glob(\"*.csv\") # get all the csv files \n",
    "%matplotlib inline \n",
    "plt.style.use('seaborn-darkgrid')\n",
    "palette=sns.color_palette('magma',10)\n",
    "warnings.filterwarnings('ignore')\n",
    "pd.options.display.max_columns=None # to display all columns in Notebook\n",
    "#pd.options.display.float_format='{:.3f}'.format   # decimal format. comment out it beacause some columns has \n",
    "                                                    # values upto 5 deciaml point and can be important\n"
   ]
  },
  {
   "cell_type": "code",
   "execution_count": 2,
   "metadata": {},
   "outputs": [],
   "source": [
    "# Important Modules for Model Building:\n",
    "\n",
    "from sklearn.preprocessing import StandardScaler,MinMaxScaler # For standerdizing data\n",
    "from sklearn.model_selection import train_test_split # splitting data into test,train sets\n",
    "from sklearn.linear_model import LinearRegression # Linear Regression Algorithm\n",
    "from sklearn.tree import DecisionTreeRegressor  # Decision Tree Algorithm"
   ]
  },
  {
   "cell_type": "code",
   "execution_count": 3,
   "metadata": {},
   "outputs": [],
   "source": [
    "# Important modules to check model performance:\n",
    "from sklearn.metrics import r2_score\n",
    "from sklearn.metrics import mean_squared_error"
   ]
  },
  {
   "cell_type": "code",
   "execution_count": 4,
   "metadata": {},
   "outputs": [
    {
     "data": {
      "text/plain": [
       "['gt_2011.csv', 'gt_2012.csv', 'gt_2013.csv', 'gt_2014.csv', 'gt_2015.csv']"
      ]
     },
     "execution_count": 4,
     "metadata": {},
     "output_type": "execute_result"
    }
   ],
   "source": [
    "# files we have in our notebook folder:\n",
    "files\n",
    "# we required all this files .so we concat it ahead"
   ]
  },
  {
   "cell_type": "code",
   "execution_count": 5,
   "metadata": {},
   "outputs": [],
   "source": [
    "# Concating all the files\n",
    "df=pd.concat(map(pd.read_csv,files),ignore_index=True)"
   ]
  },
  {
   "cell_type": "code",
   "execution_count": 6,
   "metadata": {},
   "outputs": [
    {
     "data": {
      "text/html": [
       "<div>\n",
       "<style scoped>\n",
       "    .dataframe tbody tr th:only-of-type {\n",
       "        vertical-align: middle;\n",
       "    }\n",
       "\n",
       "    .dataframe tbody tr th {\n",
       "        vertical-align: top;\n",
       "    }\n",
       "\n",
       "    .dataframe thead th {\n",
       "        text-align: right;\n",
       "    }\n",
       "</style>\n",
       "<table border=\"1\" class=\"dataframe\">\n",
       "  <thead>\n",
       "    <tr style=\"text-align: right;\">\n",
       "      <th></th>\n",
       "      <th>AT</th>\n",
       "      <th>AP</th>\n",
       "      <th>AH</th>\n",
       "      <th>AFDP</th>\n",
       "      <th>GTEP</th>\n",
       "      <th>TIT</th>\n",
       "      <th>TAT</th>\n",
       "      <th>TEY</th>\n",
       "      <th>CDP</th>\n",
       "      <th>CO</th>\n",
       "      <th>NOX</th>\n",
       "    </tr>\n",
       "  </thead>\n",
       "  <tbody>\n",
       "    <tr>\n",
       "      <th>0</th>\n",
       "      <td>4.5878</td>\n",
       "      <td>1018.7</td>\n",
       "      <td>83.675</td>\n",
       "      <td>3.5758</td>\n",
       "      <td>23.979</td>\n",
       "      <td>1086.2</td>\n",
       "      <td>549.83</td>\n",
       "      <td>134.67</td>\n",
       "      <td>11.898</td>\n",
       "      <td>0.32663</td>\n",
       "      <td>81.952</td>\n",
       "    </tr>\n",
       "    <tr>\n",
       "      <th>1</th>\n",
       "      <td>4.2932</td>\n",
       "      <td>1018.3</td>\n",
       "      <td>84.235</td>\n",
       "      <td>3.5709</td>\n",
       "      <td>23.951</td>\n",
       "      <td>1086.1</td>\n",
       "      <td>550.05</td>\n",
       "      <td>134.67</td>\n",
       "      <td>11.892</td>\n",
       "      <td>0.44784</td>\n",
       "      <td>82.377</td>\n",
       "    </tr>\n",
       "    <tr>\n",
       "      <th>2</th>\n",
       "      <td>3.9045</td>\n",
       "      <td>1018.4</td>\n",
       "      <td>84.858</td>\n",
       "      <td>3.5828</td>\n",
       "      <td>23.990</td>\n",
       "      <td>1086.5</td>\n",
       "      <td>550.19</td>\n",
       "      <td>135.10</td>\n",
       "      <td>12.042</td>\n",
       "      <td>0.45144</td>\n",
       "      <td>83.776</td>\n",
       "    </tr>\n",
       "    <tr>\n",
       "      <th>3</th>\n",
       "      <td>3.7436</td>\n",
       "      <td>1018.3</td>\n",
       "      <td>85.434</td>\n",
       "      <td>3.5808</td>\n",
       "      <td>23.911</td>\n",
       "      <td>1086.5</td>\n",
       "      <td>550.17</td>\n",
       "      <td>135.03</td>\n",
       "      <td>11.990</td>\n",
       "      <td>0.23107</td>\n",
       "      <td>82.505</td>\n",
       "    </tr>\n",
       "    <tr>\n",
       "      <th>4</th>\n",
       "      <td>3.7516</td>\n",
       "      <td>1017.8</td>\n",
       "      <td>85.182</td>\n",
       "      <td>3.5781</td>\n",
       "      <td>23.917</td>\n",
       "      <td>1085.9</td>\n",
       "      <td>550.00</td>\n",
       "      <td>134.67</td>\n",
       "      <td>11.910</td>\n",
       "      <td>0.26747</td>\n",
       "      <td>82.028</td>\n",
       "    </tr>\n",
       "  </tbody>\n",
       "</table>\n",
       "</div>"
      ],
      "text/plain": [
       "       AT      AP      AH    AFDP    GTEP     TIT     TAT     TEY     CDP  \\\n",
       "0  4.5878  1018.7  83.675  3.5758  23.979  1086.2  549.83  134.67  11.898   \n",
       "1  4.2932  1018.3  84.235  3.5709  23.951  1086.1  550.05  134.67  11.892   \n",
       "2  3.9045  1018.4  84.858  3.5828  23.990  1086.5  550.19  135.10  12.042   \n",
       "3  3.7436  1018.3  85.434  3.5808  23.911  1086.5  550.17  135.03  11.990   \n",
       "4  3.7516  1017.8  85.182  3.5781  23.917  1085.9  550.00  134.67  11.910   \n",
       "\n",
       "        CO     NOX  \n",
       "0  0.32663  81.952  \n",
       "1  0.44784  82.377  \n",
       "2  0.45144  83.776  \n",
       "3  0.23107  82.505  \n",
       "4  0.26747  82.028  "
      ]
     },
     "execution_count": 6,
     "metadata": {},
     "output_type": "execute_result"
    }
   ],
   "source": [
    "# First 5 records:\n",
    "df.head()"
   ]
  },
  {
   "cell_type": "code",
   "execution_count": 7,
   "metadata": {},
   "outputs": [
    {
     "data": {
      "text/html": [
       "<div>\n",
       "<style scoped>\n",
       "    .dataframe tbody tr th:only-of-type {\n",
       "        vertical-align: middle;\n",
       "    }\n",
       "\n",
       "    .dataframe tbody tr th {\n",
       "        vertical-align: top;\n",
       "    }\n",
       "\n",
       "    .dataframe thead th {\n",
       "        text-align: right;\n",
       "    }\n",
       "</style>\n",
       "<table border=\"1\" class=\"dataframe\">\n",
       "  <thead>\n",
       "    <tr style=\"text-align: right;\">\n",
       "      <th></th>\n",
       "      <th>AT</th>\n",
       "      <th>AP</th>\n",
       "      <th>AH</th>\n",
       "      <th>AFDP</th>\n",
       "      <th>GTEP</th>\n",
       "      <th>TIT</th>\n",
       "      <th>TAT</th>\n",
       "      <th>TEY</th>\n",
       "      <th>CDP</th>\n",
       "      <th>CO</th>\n",
       "      <th>NOX</th>\n",
       "    </tr>\n",
       "  </thead>\n",
       "  <tbody>\n",
       "    <tr>\n",
       "      <th>36728</th>\n",
       "      <td>3.6268</td>\n",
       "      <td>1028.5</td>\n",
       "      <td>93.200</td>\n",
       "      <td>3.1661</td>\n",
       "      <td>19.087</td>\n",
       "      <td>1037.0</td>\n",
       "      <td>541.59</td>\n",
       "      <td>109.08</td>\n",
       "      <td>10.411</td>\n",
       "      <td>10.9930</td>\n",
       "      <td>89.172</td>\n",
       "    </tr>\n",
       "    <tr>\n",
       "      <th>36729</th>\n",
       "      <td>4.1674</td>\n",
       "      <td>1028.6</td>\n",
       "      <td>94.036</td>\n",
       "      <td>3.1923</td>\n",
       "      <td>19.016</td>\n",
       "      <td>1037.6</td>\n",
       "      <td>542.28</td>\n",
       "      <td>108.79</td>\n",
       "      <td>10.344</td>\n",
       "      <td>11.1440</td>\n",
       "      <td>88.849</td>\n",
       "    </tr>\n",
       "    <tr>\n",
       "      <th>36730</th>\n",
       "      <td>5.4820</td>\n",
       "      <td>1028.5</td>\n",
       "      <td>95.219</td>\n",
       "      <td>3.3128</td>\n",
       "      <td>18.857</td>\n",
       "      <td>1038.0</td>\n",
       "      <td>543.48</td>\n",
       "      <td>107.81</td>\n",
       "      <td>10.462</td>\n",
       "      <td>11.4140</td>\n",
       "      <td>96.147</td>\n",
       "    </tr>\n",
       "    <tr>\n",
       "      <th>36731</th>\n",
       "      <td>5.8837</td>\n",
       "      <td>1028.7</td>\n",
       "      <td>94.200</td>\n",
       "      <td>3.9831</td>\n",
       "      <td>23.563</td>\n",
       "      <td>1076.9</td>\n",
       "      <td>550.11</td>\n",
       "      <td>131.41</td>\n",
       "      <td>11.771</td>\n",
       "      <td>3.3134</td>\n",
       "      <td>64.738</td>\n",
       "    </tr>\n",
       "    <tr>\n",
       "      <th>36732</th>\n",
       "      <td>6.0392</td>\n",
       "      <td>1028.8</td>\n",
       "      <td>94.547</td>\n",
       "      <td>3.8752</td>\n",
       "      <td>22.524</td>\n",
       "      <td>1067.9</td>\n",
       "      <td>548.23</td>\n",
       "      <td>125.41</td>\n",
       "      <td>11.462</td>\n",
       "      <td>11.9810</td>\n",
       "      <td>109.240</td>\n",
       "    </tr>\n",
       "  </tbody>\n",
       "</table>\n",
       "</div>"
      ],
      "text/plain": [
       "           AT      AP      AH    AFDP    GTEP     TIT     TAT     TEY     CDP  \\\n",
       "36728  3.6268  1028.5  93.200  3.1661  19.087  1037.0  541.59  109.08  10.411   \n",
       "36729  4.1674  1028.6  94.036  3.1923  19.016  1037.6  542.28  108.79  10.344   \n",
       "36730  5.4820  1028.5  95.219  3.3128  18.857  1038.0  543.48  107.81  10.462   \n",
       "36731  5.8837  1028.7  94.200  3.9831  23.563  1076.9  550.11  131.41  11.771   \n",
       "36732  6.0392  1028.8  94.547  3.8752  22.524  1067.9  548.23  125.41  11.462   \n",
       "\n",
       "            CO      NOX  \n",
       "36728  10.9930   89.172  \n",
       "36729  11.1440   88.849  \n",
       "36730  11.4140   96.147  \n",
       "36731   3.3134   64.738  \n",
       "36732  11.9810  109.240  "
      ]
     },
     "execution_count": 7,
     "metadata": {},
     "output_type": "execute_result"
    }
   ],
   "source": [
    "# Last 5 records\n",
    "df.tail()"
   ]
  },
  {
   "cell_type": "markdown",
   "metadata": {},
   "source": [
    "#### <a id=\"description\"></a> Description:\n",
    "___\n",
    "<b>Variable (Abbr.) Unit Min Max Mean </b>\n",
    "- Ambient temperature **(AT)** C\n",
    "- Ambient pressure **(AP)** mbar \n",
    "- Ambient humidity **(AH)** (%) \n",
    "- Air filter difference pressure **(AFDP)** mbar \n",
    "- Gas turbine exhaust pressure **(GTEP)** mbar \n",
    "- Turbine inlet temperature **(TIT)** C \n",
    "- Turbine after temperature **(TAT)** C \n",
    "- Compressor discharge pressure **(CDP)** mbar \n",
    "- Turbine energy yield **(TEY)** MWH \n",
    "- Carbon monoxide **(CO)** mg/m3 \n",
    "- Nitrogen oxides **(NOx)** mg/m3 \n",
    "___"
   ]
  },
  {
   "cell_type": "code",
   "execution_count": 8,
   "metadata": {},
   "outputs": [
    {
     "name": "stdout",
     "output_type": "stream",
     "text": [
      "<class 'pandas.core.frame.DataFrame'>\n",
      "RangeIndex: 36733 entries, 0 to 36732\n",
      "Data columns (total 11 columns):\n",
      " #   Column  Non-Null Count  Dtype  \n",
      "---  ------  --------------  -----  \n",
      " 0   AT      36733 non-null  float64\n",
      " 1   AP      36733 non-null  float64\n",
      " 2   AH      36733 non-null  float64\n",
      " 3   AFDP    36733 non-null  float64\n",
      " 4   GTEP    36733 non-null  float64\n",
      " 5   TIT     36733 non-null  float64\n",
      " 6   TAT     36733 non-null  float64\n",
      " 7   TEY     36733 non-null  float64\n",
      " 8   CDP     36733 non-null  float64\n",
      " 9   CO      36733 non-null  float64\n",
      " 10  NOX     36733 non-null  float64\n",
      "dtypes: float64(11)\n",
      "memory usage: 3.1 MB\n"
     ]
    }
   ],
   "source": [
    "df.info()"
   ]
  },
  {
   "cell_type": "markdown",
   "metadata": {},
   "source": [
    "<code style=\"background:yellow;color:black\"><b>- There are No null values in this dataset.<br>- All the features are of Dtype float,so no feature encoding required.</b>\n",
    "</code>"
   ]
  },
  {
   "cell_type": "code",
   "execution_count": 9,
   "metadata": {},
   "outputs": [
    {
     "data": {
      "text/plain": [
       "Index(['AT', 'AP', 'AH', 'AFDP', 'GTEP', 'TIT', 'TAT', 'TEY', 'CDP', 'CO',\n",
       "       'NOX'],\n",
       "      dtype='object')"
      ]
     },
     "execution_count": 9,
     "metadata": {},
     "output_type": "execute_result"
    }
   ],
   "source": [
    "# check on columns:\n",
    "df.columns"
   ]
  },
  {
   "cell_type": "code",
   "execution_count": 10,
   "metadata": {},
   "outputs": [
    {
     "data": {
      "text/html": [
       "<div>\n",
       "<style scoped>\n",
       "    .dataframe tbody tr th:only-of-type {\n",
       "        vertical-align: middle;\n",
       "    }\n",
       "\n",
       "    .dataframe tbody tr th {\n",
       "        vertical-align: top;\n",
       "    }\n",
       "\n",
       "    .dataframe thead th {\n",
       "        text-align: right;\n",
       "    }\n",
       "</style>\n",
       "<table border=\"1\" class=\"dataframe\">\n",
       "  <thead>\n",
       "    <tr style=\"text-align: right;\">\n",
       "      <th></th>\n",
       "      <th>AT</th>\n",
       "      <th>AP</th>\n",
       "      <th>AH</th>\n",
       "      <th>AFDP</th>\n",
       "      <th>GTEP</th>\n",
       "      <th>TIT</th>\n",
       "      <th>TAT</th>\n",
       "      <th>TEY</th>\n",
       "      <th>CDP</th>\n",
       "      <th>CO</th>\n",
       "      <th>NOX</th>\n",
       "    </tr>\n",
       "  </thead>\n",
       "  <tbody>\n",
       "    <tr>\n",
       "      <th>count</th>\n",
       "      <td>36733.000000</td>\n",
       "      <td>36733.000000</td>\n",
       "      <td>36733.000000</td>\n",
       "      <td>36733.000000</td>\n",
       "      <td>36733.000000</td>\n",
       "      <td>36733.000000</td>\n",
       "      <td>36733.000000</td>\n",
       "      <td>36733.000000</td>\n",
       "      <td>36733.000000</td>\n",
       "      <td>36733.000000</td>\n",
       "      <td>36733.000000</td>\n",
       "    </tr>\n",
       "    <tr>\n",
       "      <th>mean</th>\n",
       "      <td>17.712726</td>\n",
       "      <td>1013.070165</td>\n",
       "      <td>77.867015</td>\n",
       "      <td>3.925518</td>\n",
       "      <td>25.563801</td>\n",
       "      <td>1081.428084</td>\n",
       "      <td>546.158517</td>\n",
       "      <td>133.506404</td>\n",
       "      <td>12.060525</td>\n",
       "      <td>2.372468</td>\n",
       "      <td>65.293067</td>\n",
       "    </tr>\n",
       "    <tr>\n",
       "      <th>std</th>\n",
       "      <td>7.447451</td>\n",
       "      <td>6.463346</td>\n",
       "      <td>14.461355</td>\n",
       "      <td>0.773936</td>\n",
       "      <td>4.195957</td>\n",
       "      <td>17.536373</td>\n",
       "      <td>6.842360</td>\n",
       "      <td>15.618634</td>\n",
       "      <td>1.088795</td>\n",
       "      <td>2.262672</td>\n",
       "      <td>11.678357</td>\n",
       "    </tr>\n",
       "    <tr>\n",
       "      <th>min</th>\n",
       "      <td>-6.234800</td>\n",
       "      <td>985.850000</td>\n",
       "      <td>24.085000</td>\n",
       "      <td>2.087400</td>\n",
       "      <td>17.698000</td>\n",
       "      <td>1000.800000</td>\n",
       "      <td>511.040000</td>\n",
       "      <td>100.020000</td>\n",
       "      <td>9.851800</td>\n",
       "      <td>0.000388</td>\n",
       "      <td>25.905000</td>\n",
       "    </tr>\n",
       "    <tr>\n",
       "      <th>25%</th>\n",
       "      <td>11.781000</td>\n",
       "      <td>1008.800000</td>\n",
       "      <td>68.188000</td>\n",
       "      <td>3.355600</td>\n",
       "      <td>23.129000</td>\n",
       "      <td>1071.800000</td>\n",
       "      <td>544.720000</td>\n",
       "      <td>124.450000</td>\n",
       "      <td>11.435000</td>\n",
       "      <td>1.182400</td>\n",
       "      <td>57.162000</td>\n",
       "    </tr>\n",
       "    <tr>\n",
       "      <th>50%</th>\n",
       "      <td>17.801000</td>\n",
       "      <td>1012.600000</td>\n",
       "      <td>80.470000</td>\n",
       "      <td>3.937700</td>\n",
       "      <td>25.104000</td>\n",
       "      <td>1085.900000</td>\n",
       "      <td>549.880000</td>\n",
       "      <td>133.730000</td>\n",
       "      <td>11.965000</td>\n",
       "      <td>1.713500</td>\n",
       "      <td>63.849000</td>\n",
       "    </tr>\n",
       "    <tr>\n",
       "      <th>75%</th>\n",
       "      <td>23.665000</td>\n",
       "      <td>1017.000000</td>\n",
       "      <td>89.376000</td>\n",
       "      <td>4.376900</td>\n",
       "      <td>29.061000</td>\n",
       "      <td>1097.000000</td>\n",
       "      <td>550.040000</td>\n",
       "      <td>144.080000</td>\n",
       "      <td>12.855000</td>\n",
       "      <td>2.842900</td>\n",
       "      <td>71.548000</td>\n",
       "    </tr>\n",
       "    <tr>\n",
       "      <th>max</th>\n",
       "      <td>37.103000</td>\n",
       "      <td>1036.600000</td>\n",
       "      <td>100.200000</td>\n",
       "      <td>7.610600</td>\n",
       "      <td>40.716000</td>\n",
       "      <td>1100.900000</td>\n",
       "      <td>550.610000</td>\n",
       "      <td>179.500000</td>\n",
       "      <td>15.159000</td>\n",
       "      <td>44.103000</td>\n",
       "      <td>119.910000</td>\n",
       "    </tr>\n",
       "  </tbody>\n",
       "</table>\n",
       "</div>"
      ],
      "text/plain": [
       "                 AT            AP            AH          AFDP          GTEP  \\\n",
       "count  36733.000000  36733.000000  36733.000000  36733.000000  36733.000000   \n",
       "mean      17.712726   1013.070165     77.867015      3.925518     25.563801   \n",
       "std        7.447451      6.463346     14.461355      0.773936      4.195957   \n",
       "min       -6.234800    985.850000     24.085000      2.087400     17.698000   \n",
       "25%       11.781000   1008.800000     68.188000      3.355600     23.129000   \n",
       "50%       17.801000   1012.600000     80.470000      3.937700     25.104000   \n",
       "75%       23.665000   1017.000000     89.376000      4.376900     29.061000   \n",
       "max       37.103000   1036.600000    100.200000      7.610600     40.716000   \n",
       "\n",
       "                TIT           TAT           TEY           CDP            CO  \\\n",
       "count  36733.000000  36733.000000  36733.000000  36733.000000  36733.000000   \n",
       "mean    1081.428084    546.158517    133.506404     12.060525      2.372468   \n",
       "std       17.536373      6.842360     15.618634      1.088795      2.262672   \n",
       "min     1000.800000    511.040000    100.020000      9.851800      0.000388   \n",
       "25%     1071.800000    544.720000    124.450000     11.435000      1.182400   \n",
       "50%     1085.900000    549.880000    133.730000     11.965000      1.713500   \n",
       "75%     1097.000000    550.040000    144.080000     12.855000      2.842900   \n",
       "max     1100.900000    550.610000    179.500000     15.159000     44.103000   \n",
       "\n",
       "                NOX  \n",
       "count  36733.000000  \n",
       "mean      65.293067  \n",
       "std       11.678357  \n",
       "min       25.905000  \n",
       "25%       57.162000  \n",
       "50%       63.849000  \n",
       "75%       71.548000  \n",
       "max      119.910000  "
      ]
     },
     "execution_count": 10,
     "metadata": {},
     "output_type": "execute_result"
    }
   ],
   "source": [
    "# checking data validity\n",
    "df.describe()"
   ]
  },
  {
   "cell_type": "markdown",
   "metadata": {},
   "source": [
    "<code style=\"background:yellow;color:black\"><b>- Feature 'CO' :the value of 75th percentile and max value has big difference .that shows presence of outliers.<br>- So checking and removing outliers can help for a good model Performance.</b>\n",
    "</code>"
   ]
  },
  {
   "cell_type": "markdown",
   "metadata": {},
   "source": [
    "#### <a id='outlier'> </a> Outlier Handling"
   ]
  },
  {
   "cell_type": "code",
   "execution_count": 11,
   "metadata": {},
   "outputs": [
    {
     "data": {
      "image/png": "[encoded data removed]",
      "text/plain": [
       "<Figure size 1440x1440 with 11 Axes>"
      ]
     },
     "metadata": {},
     "output_type": "display_data"
    }
   ],
   "source": [
    "# checking outliers with boxplot from seaborn module.\n",
    "rows=4\n",
    "colm=3\n",
    "pos=1\n",
    "plt.figure(figsize=(20,20))\n",
    "for col in df.columns:\n",
    "    plt.subplot(rows,colm,pos)\n",
    "    sns.boxplot(df[col])\n",
    "\n",
    "    pos+=1"
   ]
  },
  {
   "cell_type": "markdown",
   "metadata": {},
   "source": [
    "<code style=\"background:yellow;color:black\"><b>- Feature CO & TAT has more numbers of outliers .<br>\\- We can remove this outliers by deciding interquantile range .\n",
    "</b></code>"
   ]
  },
  {
   "cell_type": "code",
   "execution_count": 12,
   "metadata": {},
   "outputs": [],
   "source": [
    "# function to remove outliers\n",
    "def outlier_remove(df):\n",
    "    data=df.copy()  # use a copy of original data so we can have the original data for later use.\n",
    "    for col in data.columns:\n",
    "        if data[col].dtypes !='object': # we do not have any columns of dtype as object , but this function can be used in other dataset too.\n",
    "            Q1=data[col].quantile(0.25)\n",
    "            Q3=data[col].quantile(0.75)\n",
    "            IQR=Q3-Q1  # Interquantile range\n",
    "            lower=Q1-(1.5*IQR)\n",
    "            upper=Q3+(1.5*IQR)\n",
    "            data=data[data[col]>=lower]\n",
    "            data=data[data[col]<=upper]\n",
    "            data.reset_index(inplace=True,drop=True)\n",
    "    \n",
    "    return(data)\n"
   ]
  },
  {
   "cell_type": "code",
   "execution_count": 13,
   "metadata": {},
   "outputs": [],
   "source": [
    "# Applying outlier removal function to our dataset.\n",
    "df_new=outlier_remove(df) "
   ]
  },
  {
   "cell_type": "code",
   "execution_count": 14,
   "metadata": {},
   "outputs": [
    {
     "data": {
      "text/plain": [
       "(36733, 11)"
      ]
     },
     "execution_count": 14,
     "metadata": {},
     "output_type": "execute_result"
    }
   ],
   "source": [
    "df.shape"
   ]
  },
  {
   "cell_type": "code",
   "execution_count": 15,
   "metadata": {},
   "outputs": [
    {
     "data": {
      "text/plain": [
       "(27791, 11)"
      ]
     },
     "execution_count": 15,
     "metadata": {},
     "output_type": "execute_result"
    }
   ],
   "source": [
    "df_new.shape"
   ]
  },
  {
   "cell_type": "markdown",
   "metadata": {},
   "source": [
    "### <a id='model'></a> <font size=4>Model Building"
   ]
  },
  {
   "cell_type": "markdown",
   "metadata": {},
   "source": [
    "#### <a id='multi-model'></a> Multioutput Models"
   ]
  },
  {
   "cell_type": "code",
   "execution_count": 16,
   "metadata": {},
   "outputs": [],
   "source": [
    "# Creating target and independant variable.\n",
    "data=df_new.copy()\n",
    "X=data.drop(['CO','NOX'],axis=1) # CO and NOC are the target variables we remove it from independant variable list.\n",
    "y=data[['CO','NOX']] "
   ]
  },
  {
   "cell_type": "code",
   "execution_count": 17,
   "metadata": {},
   "outputs": [],
   "source": [
    "# Function that transform data in scaled form and creates Linear Regression model.\n",
    "def Lin_regression(train_x,test_x,train_y,test_y,scaler):\n",
    "\n",
    "    trainx=train_x.copy()\n",
    "    testx=test_x.copy()\n",
    "    trainy=train_y.copy()\n",
    "    testy=test_y.copy()\n",
    "    if scaler == 'minmax':\n",
    "        mm=MinMaxScaler()\n",
    "        train_x_scale=mm.fit_transform(trainx)\n",
    "        test_x_scale=mm.transform(testx)\n",
    "\n",
    "    elif scaler == 'standerd':\n",
    "        ss=StandardScaler()\n",
    "        train_x_scale = ss.fit_transform(trainx)\n",
    "        test_x_scale = ss.transform(testx)\n",
    "\n",
    "    else:\n",
    "        print('invalid scaler parameter:\\n\\t\"minmax\":minmax scaler\\n\\t\"standerd\":standerd scaler')\n",
    "        \n",
    "    model=LinearRegression().fit(train_x_scale,trainy)\n",
    "    test_y_pred=model.predict(test_x_scale)\n",
    "    print('R squared value of test=  {:.3f}'.format(r2_score(testy,test_y_pred)))\n",
    "    print('Mean Squared error value Of test=  {:.3f}'.format(mean_squared_error(testy,test_y_pred)))\n",
    "    print('Root Mean Squared error value Of test=  {:.3f}'.format(np.sqrt(mean_squared_error(testy,test_y_pred))))\n",
    "\n",
    "    return(test_y_pred)\n",
    "    "
   ]
  },
  {
   "cell_type": "code",
   "execution_count": 18,
   "metadata": {},
   "outputs": [],
   "source": [
    "# Function that transform data in scaled form and creates Decision Tree Regression model.\n",
    "def DT_regression(train_x,test_x,train_y,test_y,scaler):\n",
    "    trainx=train_x.copy()\n",
    "    testx=test_x.copy()\n",
    "    trainy=train_y.copy()\n",
    "    testy=test_y.copy()\n",
    "\n",
    "    if scaler == 'minmax':\n",
    "        mm=MinMaxScaler()\n",
    "        train_x_scale=mm.fit_transform(trainx)\n",
    "        test_x_scale=mm.transform(testx)\n",
    "\n",
    "    elif scaler == 'standerd':\n",
    "        ss=StandardScaler()\n",
    "        train_x_scale = ss.fit_transform(trainx)\n",
    "        test_x_scale = ss.transform(testx)\n",
    "    else:\n",
    "        print('invalid scaler parameter:\\n\\t\"minmax\":minmax scaler\\n\\t\"standerd\":standerd scaler')\n",
    "\n",
    "    model=DecisionTreeRegressor(criterion='mse').fit(train_x_scale,trainy)\n",
    "    test_y_pred=model.predict(test_x_scale)\n",
    "    print('R squared value of test=  {:.3f}'.format(r2_score(testy,test_y_pred)))\n",
    "    print('Mean Squared error value Of test=  {:.3f}'.format(mean_squared_error(testy,test_y_pred)))\n",
    "    print('Root Mean Squared error value Of test=  {:.3f}'.format(np.sqrt(mean_squared_error(testy,test_y_pred))))\n",
    "\n",
    "    return(test_y_pred)\n"
   ]
  },
  {
   "cell_type": "code",
   "execution_count": 19,
   "metadata": {},
   "outputs": [],
   "source": [
    "# Splitting data into train and test where target has multiple output features.\n",
    "x_train,x_test,y_train,y_test=train_test_split(X,y,test_size=0.25,random_state=111)"
   ]
  },
  {
   "cell_type": "code",
   "execution_count": 20,
   "metadata": {},
   "outputs": [
    {
     "name": "stdout",
     "output_type": "stream",
     "text": [
      "R squared value of test=  0.652\n",
      "Mean Squared error value Of test=  14.053\n",
      "Root Mean Squared error value Of test=  3.749\n"
     ]
    }
   ],
   "source": [
    "# First Prediction : Linear Regression model (scaler=minmax)\n",
    "lin_pred1=Lin_regression(x_train,x_test,y_train,y_test,'minmax')"
   ]
  },
  {
   "cell_type": "code",
   "execution_count": 21,
   "metadata": {},
   "outputs": [
    {
     "name": "stdout",
     "output_type": "stream",
     "text": [
      "R squared value of test=  0.652\n",
      "Mean Squared error value Of test=  14.053\n",
      "Root Mean Squared error value Of test=  3.749\n"
     ]
    }
   ],
   "source": [
    "# Second Prediction : Linear Regression model (scaler=standerd)\n",
    "lin_pred2=Lin_regression(x_train,x_test,y_train,y_test,'standerd')"
   ]
  },
  {
   "cell_type": "code",
   "execution_count": 22,
   "metadata": {},
   "outputs": [
    {
     "name": "stdout",
     "output_type": "stream",
     "text": [
      "R squared value of test=  0.637\n",
      "Mean Squared error value Of test=  12.427\n",
      "Root Mean Squared error value Of test=  3.525\n"
     ]
    }
   ],
   "source": [
    "# Third Prediction : Decision Tree Regressor model (scaler=minmax)\n",
    "DT_pred1=DT_regression(x_train,x_test,y_train,y_test,'minmax')"
   ]
  },
  {
   "cell_type": "code",
   "execution_count": 23,
   "metadata": {},
   "outputs": [
    {
     "name": "stdout",
     "output_type": "stream",
     "text": [
      "R squared value of test=  0.637\n",
      "Mean Squared error value Of test=  12.659\n",
      "Root Mean Squared error value Of test=  3.558\n"
     ]
    }
   ],
   "source": [
    "# Fourth Prediction : Decision Tree Regressor model (scaler=standerd)\n",
    "DT_pred2=DT_regression(x_train,x_test,y_train,y_test,'standerd')"
   ]
  },
  {
   "cell_type": "markdown",
   "metadata": {},
   "source": [
    "<a id='model_result'></a>\n",
    "<code style=\"background:red;color:white\"><b>Multioutput Model Results:</b> </code>\n",
    "\n",
    "|Model|R_squared|MSE|RMSE|\n",
    "|-----|---------|---|----|\n",
    "|Linear(Minmax scale Data)|0.652|14.053|3.749|\n",
    "|Linear(standerd scale Data)|0.652|14.053|3.749|\n",
    "|DT Regressor(Minmax scale Data)|0.637|12.427|3.525|\n",
    "|DT Regressor(standerd scale Data)|0.637|12.659|3.558|\n",
    "\n",
    "<code style=\"background:yellow;color:black\"><b><font size=3>Decision Tree Regressor with Minmax Transformation gives minimum RMSE than other models so we use it for Individual prediction .</b> </code>\n"
   ]
  },
  {
   "cell_type": "markdown",
   "metadata": {},
   "source": [
    "#### <a id='ind_model'></a> Building individual model for each target : (Using DT regressor with minmax-scaler)\n",
    "___"
   ]
  },
  {
   "cell_type": "code",
   "execution_count": 24,
   "metadata": {},
   "outputs": [],
   "source": [
    "# Splitting data for individual target.\n",
    "train_x1,test_x1,train_y1,test_y1=train_test_split(data.drop(['CO','NOX'],1),data.NOX,test_size=0.25,random_state=111) # data for NOX as a target.\n",
    "train_x2,test_x2,train_y2,test_y2=train_test_split(data.drop(['CO','NOX'],1),data.CO,test_size=0.25,random_state=111) # data for CO as a target."
   ]
  },
  {
   "cell_type": "code",
   "execution_count": 25,
   "metadata": {},
   "outputs": [
    {
     "name": "stdout",
     "output_type": "stream",
     "text": [
      "R squared value of test=  0.746\n",
      "Mean Squared error value Of test=  24.200\n",
      "Root Mean Squared error value Of test=  4.919\n"
     ]
    }
   ],
   "source": [
    "# Prediction of NOX\n",
    "DT_pred_NOX=DT_regression(train_x1,test_x1,train_y1,test_y1,'minmax')"
   ]
  },
  {
   "cell_type": "code",
   "execution_count": 26,
   "metadata": {},
   "outputs": [
    {
     "name": "stdout",
     "output_type": "stream",
     "text": [
      "R squared value of test=  0.619\n",
      "Mean Squared error value Of test=  0.551\n",
      "Root Mean Squared error value Of test=  0.742\n"
     ]
    }
   ],
   "source": [
    "# prediction of CO\n",
    "DT_pred_CO=DT_regression(train_x2,test_x2,train_y2,test_y2,'minmax')"
   ]
  },
  {
   "cell_type": "code",
   "execution_count": 27,
   "metadata": {},
   "outputs": [],
   "source": [
    "# Creaating a dataframe of actual vs prediction\n",
    "ind_pred=pd.DataFrame()\n",
    "ind_pred['CO']=test_y2\n",
    "ind_pred['NOX']=test_y1\n",
    "ind_pred['CO Pred']=DT_pred_CO\n",
    "ind_pred['NOX Pred']=DT_pred_NOX\n",
    "ind_pred.reset_index(inplace=True,drop=True)"
   ]
  },
  {
   "cell_type": "markdown",
   "metadata": {},
   "source": [
    "<a id='ind_result'></a><code style=\"background:red;color:white\"><b>Individual Model Results:</b> </code>"
   ]
  },
  {
   "cell_type": "code",
   "execution_count": 28,
   "metadata": {},
   "outputs": [
    {
     "data": {
      "text/html": [
       "<div>\n",
       "<style scoped>\n",
       "    .dataframe tbody tr th:only-of-type {\n",
       "        vertical-align: middle;\n",
       "    }\n",
       "\n",
       "    .dataframe tbody tr th {\n",
       "        vertical-align: top;\n",
       "    }\n",
       "\n",
       "    .dataframe thead th {\n",
       "        text-align: right;\n",
       "    }\n",
       "</style>\n",
       "<table border=\"1\" class=\"dataframe\">\n",
       "  <thead>\n",
       "    <tr style=\"text-align: right;\">\n",
       "      <th></th>\n",
       "      <th>CO</th>\n",
       "      <th>NOX</th>\n",
       "      <th>CO Pred</th>\n",
       "      <th>NOX Pred</th>\n",
       "    </tr>\n",
       "  </thead>\n",
       "  <tbody>\n",
       "    <tr>\n",
       "      <th>6034</th>\n",
       "      <td>0.53323</td>\n",
       "      <td>60.020</td>\n",
       "      <td>1.6048</td>\n",
       "      <td>60.655</td>\n",
       "    </tr>\n",
       "    <tr>\n",
       "      <th>5741</th>\n",
       "      <td>1.21340</td>\n",
       "      <td>64.102</td>\n",
       "      <td>1.1608</td>\n",
       "      <td>64.886</td>\n",
       "    </tr>\n",
       "    <tr>\n",
       "      <th>1236</th>\n",
       "      <td>1.80690</td>\n",
       "      <td>84.715</td>\n",
       "      <td>2.2912</td>\n",
       "      <td>74.709</td>\n",
       "    </tr>\n",
       "    <tr>\n",
       "      <th>6738</th>\n",
       "      <td>4.48640</td>\n",
       "      <td>49.710</td>\n",
       "      <td>1.6762</td>\n",
       "      <td>51.021</td>\n",
       "    </tr>\n",
       "    <tr>\n",
       "      <th>1400</th>\n",
       "      <td>3.78920</td>\n",
       "      <td>46.331</td>\n",
       "      <td>4.1344</td>\n",
       "      <td>46.559</td>\n",
       "    </tr>\n",
       "    <tr>\n",
       "      <th>1174</th>\n",
       "      <td>1.33480</td>\n",
       "      <td>70.464</td>\n",
       "      <td>1.2526</td>\n",
       "      <td>71.151</td>\n",
       "    </tr>\n",
       "    <tr>\n",
       "      <th>6423</th>\n",
       "      <td>1.60990</td>\n",
       "      <td>64.537</td>\n",
       "      <td>1.5311</td>\n",
       "      <td>84.886</td>\n",
       "    </tr>\n",
       "    <tr>\n",
       "      <th>4415</th>\n",
       "      <td>3.57500</td>\n",
       "      <td>72.198</td>\n",
       "      <td>3.2046</td>\n",
       "      <td>76.052</td>\n",
       "    </tr>\n",
       "    <tr>\n",
       "      <th>2810</th>\n",
       "      <td>1.57770</td>\n",
       "      <td>54.983</td>\n",
       "      <td>1.7563</td>\n",
       "      <td>54.895</td>\n",
       "    </tr>\n",
       "    <tr>\n",
       "      <th>3709</th>\n",
       "      <td>1.82860</td>\n",
       "      <td>54.219</td>\n",
       "      <td>1.2103</td>\n",
       "      <td>56.006</td>\n",
       "    </tr>\n",
       "  </tbody>\n",
       "</table>\n",
       "</div>"
      ],
      "text/plain": [
       "           CO     NOX  CO Pred  NOX Pred\n",
       "6034  0.53323  60.020   1.6048    60.655\n",
       "5741  1.21340  64.102   1.1608    64.886\n",
       "1236  1.80690  84.715   2.2912    74.709\n",
       "6738  4.48640  49.710   1.6762    51.021\n",
       "1400  3.78920  46.331   4.1344    46.559\n",
       "1174  1.33480  70.464   1.2526    71.151\n",
       "6423  1.60990  64.537   1.5311    84.886\n",
       "4415  3.57500  72.198   3.2046    76.052\n",
       "2810  1.57770  54.983   1.7563    54.895\n",
       "3709  1.82860  54.219   1.2103    56.006"
      ]
     },
     "execution_count": 28,
     "metadata": {},
     "output_type": "execute_result"
    }
   ],
   "source": [
    "ind_pred.sample(10)"
   ]
  },
  {
   "cell_type": "code",
   "execution_count": 29,
   "metadata": {},
   "outputs": [
    {
     "name": "stdout",
     "output_type": "stream",
     "text": [
      "R squared value of test=  0.682\n",
      "Mean Squared error value Of test=  12.376\n",
      "Root Mean Squared error value Of test=  3.518\n"
     ]
    }
   ],
   "source": [
    "# results:\n",
    "print('R squared value of test=  {:.3f}'.format(r2_score(ind_pred.iloc[:,:2],ind_pred.iloc[:,2:4])))\n",
    "print('Mean Squared error value Of test=  {:.3f}'.format(mean_squared_error(ind_pred.iloc[:,:2],ind_pred.iloc[:,2:4])))\n",
    "print('Root Mean Squared error value Of test=  {:.3f}'.format(np.sqrt(mean_squared_error(ind_pred.iloc[:,:2],ind_pred.iloc[:,2:4]))))\n"
   ]
  },
  {
   "cell_type": "code",
   "execution_count": 30,
   "metadata": {},
   "outputs": [
    {
     "data": {
      "image/png": "[encoded data removed]",
      "text/plain": [
       "<Figure size 432x288 with 1 Axes>"
      ]
     },
     "metadata": {},
     "output_type": "display_data"
    }
   ],
   "source": [
    "# Regression Line Plot\n",
    "sns.regplot(ind_pred.CO,ind_pred['CO Pred'], scatter_kws=dict(color=\"blue\"), line_kws=dict(color=\"red\", linewidth=3))\n",
    "plt.show()"
   ]
  },
  {
   "cell_type": "code",
   "execution_count": 31,
   "metadata": {},
   "outputs": [
    {
     "data": {
      "image/png": "[encoded data removed]",
      "text/plain": [
       "<Figure size 432x288 with 1 Axes>"
      ]
     },
     "metadata": {},
     "output_type": "display_data"
    }
   ],
   "source": [
    "# Regression Line Plot\n",
    "sns.regplot(ind_pred.NOX,ind_pred['NOX Pred'], scatter_kws=dict(color=\"blue\"), line_kws=dict(color=\"red\", linewidth=3))\n",
    "plt.show()"
   ]
  },
  {
   "cell_type": "markdown",
   "metadata": {},
   "source": [
    "### <a id='conc'></a> Conclusion:\n",
    "\n",
    "|Results|By Multioutput Model|By Combining Result|\n",
    "|-------|--------------------|-------------------|\n",
    "|R2 score|0.637|0.682|\n",
    "|MSE|12.427|12.376|\n",
    "|RMSE|3.525|3.518|\n",
    "\n",
    "\n",
    "<br>\n",
    "<b>A combined model prediction performs well than a multioutput model.But we can still use multioutput model if  the performance difference is acceptable.</b>\n",
    "\n"
   ]
  }
 ],
 "metadata": {
  "interpreter": {
   "hash": "5ff896c5f3048bd18696267a92c15cadfdd14d9309d75fba0a15808bc8a4c7c4"
  },
  "kernelspec": {
   "display_name": "Python 3",
   "language": "python",
   "name": "python3"
  },
  "language_info": {
   "codemirror_mode": {
    "name": "ipython",
    "version": 3
   },
   "file_extension": ".py",
   "mimetype": "text/x-python",
   "name": "python",
   "nbconvert_exporter": "python",
   "pygments_lexer": "ipython3",
   "version": "3.9.2"
  }
 },
 "nbformat": 4,
 "nbformat_minor": 2
}
