{
 "cells": [
  {
   "cell_type": "markdown",
   "metadata": {},
   "source": [
    "# <center>New York Taxi Fare Prediction</center>"
   ]
  },
  {
   "cell_type": "markdown",
   "metadata": {},
   "source": [
    "![image](new-york-taxi-wallpaper.jpg)"
   ]
  },
  {
   "cell_type": "markdown",
   "metadata": {},
   "source": [
    "### <center>Overview</center>\n",
    "* **Basic Idea :**<br>\n",
    "Analysisng historical data about New York taxi data and getting insights about how taxi fare gets affected by paramters and time.Also machine learning can be used to learn the pattern in data and can be used as a tool for future prediction. \n",
    "\n",
    "\n",
    "* **Objective :**<br>Machine learning can be used to detect the pattern in the historical data and can be usefull to create a prediction.Utilizing the Data analysing and Machine Learning to get a idea about possible Fare.<br>\n",
    "\n",
    "\n",
    "* **Problem Statement :**<br>To predict the Taxi Fare.\n",
    "\n",
    "\n",
    "* **Motivation :**<br>There are apps like OLA and UBER that gives service of taxi. The app basically shows the fare from given input variables like pickup location and dropping location, number of passenger and the time at which a passenger is booking.so without directly contacting to any taxi , the app calculate the fare using some concept.This concept can be leared from the project.\n",
    "\n",
    "\n",
    "* **Project Scope :**<br>This  project will analyise the historical data of taxi pricing,take insight from that data to understand more about New York taxi data by the view of pricing.Creating relevent data from already available data is one of the part of the project (Feature Engineering).at the last stage of project will be creating a machine learning model that understand this problem to give us desired output.\n",
    "\n",
    "\n",
    "* **Working Methodology :**\n",
    "    - Primary Task is to Understand Data and finding anomalies in data.\n",
    "    - Feature Engineering.\n",
    "    - Exploratory data analysis.\n",
    "    - Machine Learning  Preprocessing.\n",
    "    - Building Machine Learning model.\n",
    "    - Model Evaluation.\n",
    "    - Model validation.\n",
    "    - Cross validation.\n",
    "    - Tuning Model.\n",
    "    \n",
    "    \n",
    "* **Data Collection**\n",
    "    - The dataset I took from kaggle.link for the dataset is [here](https://www.kaggle.com/nikhilmittal/flight-fare-prediction-mh)\n",
    "\n",
    "\n",
    "* **Technical Aspect :**<br>\n",
    "    - [Python v1.2.4](https://www.python.org/) Programming Langauge for this Notebook.\n",
    "    - [Pandas v1.21.2](https://pandas.pydata.org/) Python Data Analysis Library.\n",
    "    - [Sklearn v0.24.2](https://scikit-learn.org/stable/) Machine Learning handling in Python.\n",
    "    - [Geopy v2.2.0](https://pypi.org/project/geopy/) Geocoding Solution for Python. \n",
    "    - [Scipy v1.6.3](https://scipy.org/) Scintific Calculation in python\n",
    "    - [Matplotlib v3.4.2](https://matplotlib.org/) creating static, animated, and interactive visualizations in Python.\n",
    "    - [Seaborn v0.11.1](https://seaborn.pydata.org/) Python data Visulization based on matplotlib.\n",
    "    - [Statsmodels 0.12.2](https://www.statsmodels.org/stable/index.html) # Statsmodels is another machine learning library for python.\n",
    "    \n",
    "    \n",
    "- **Model Evaluation Based criteria**\n",
    "    \n",
    "   |Criteria|Formula|\n",
    "   |--------|-------|\n",
    "   |Coefficent of Determination$R^2$| $$1-\\frac{RSS}{TSS}$$ |\n",
    "   |RMSE|$$\\sqrt{\\frac{1}{n}\\Sigma_{i=1}^{n}(y_i – \\hat{y_{i}})^2}$$|\n",
    "   \n",
    "   \n",
    "\n",
    "\n",
    "        \n"
   ]
  },
  {
   "cell_type": "markdown",
   "metadata": {},
   "source": [
    "## <center>Index</center>"
   ]
  },
  {
   "cell_type": "markdown",
   "metadata": {},
   "source": [
    "* [**Data Preprocessing**](#Data-Preprocessing)\n",
    "    * [Prerequisite](#Prerequisite)\n",
    "    * [Null Check](#Null-Check)\n",
    "* [**EDA And Visulization**](#EDA-And-Visulization)\n",
    "* [**Feature Engineering**](#Feature-Engineering)\n",
    "* [**Machine Learning Models**](#Machine-Learning-Models)\n",
    "    * [Model Preprocessing](#Model-Preprocessing)\n",
    "    * [Models Building](#Models-Building)\n"
   ]
  },
  {
   "cell_type": "markdown",
   "metadata": {},
   "source": [
    "### <center>Data Preprocessing</center>"
   ]
  },
  {
   "cell_type": "markdown",
   "metadata": {},
   "source": [
    "#### Prerequisite"
   ]
  },
  {
   "cell_type": "code",
   "execution_count": 2,
   "metadata": {},
   "outputs": [],
   "source": [
    "## Installing Prerequisites\n",
    "#!pip install pandas\n",
    "#!pip install numpy\n",
    "#pip install matplotlib\n",
    "#pip install seaborn\n",
    "#pip install scipy\n",
    "#!pip install statmodels    # For OLS model"
   ]
  },
  {
   "cell_type": "code",
   "execution_count": 3,
   "metadata": {},
   "outputs": [],
   "source": [
    "# Libraries For data Handling\n",
    "import pandas as pd\n",
    "import numpy as np\n",
    "import seaborn as sns\n",
    "import matplotlib.pyplot as plt\n",
    "import warnings\n",
    "\n",
    "\n",
    "# Machine Learning Libraries\n",
    "\n",
    "from sklearn.linear_model import LinearRegression\n",
    "from sklearn.ensemble import RandomForestRegressor\n",
    "from sklearn.model_selection import train_test_split,GridSearchCV\n",
    "from sklearn.preprocessing import StandardScaler,MinMaxScaler\n",
    "from sklearn.metrics import mean_squared_error\n",
    "\n",
    "from sklearn.feature_selection import RFE # For feature selection\n",
    "\n",
    "\n",
    "#Default parameters by notebook\n",
    "\n",
    "%matplotlib inline\n",
    "warnings.filterwarnings('ignore')\n",
    "plt.rcParams['figure.figsize']=(10,6)\n",
    "plt.rcParams['font.size']=12\n",
    "plt.style.use('seaborn-darkgrid')\n",
    "palette=sns.color_palette('husl',10)\n"
   ]
  },
  {
   "cell_type": "code",
   "execution_count": 4,
   "metadata": {},
   "outputs": [
    {
     "data": {
      "text/html": [
       "<div>\n",
       "<style scoped>\n",
       "    .dataframe tbody tr th:only-of-type {\n",
       "        vertical-align: middle;\n",
       "    }\n",
       "\n",
       "    .dataframe tbody tr th {\n",
       "        vertical-align: top;\n",
       "    }\n",
       "\n",
       "    .dataframe thead th {\n",
       "        text-align: right;\n",
       "    }\n",
       "</style>\n",
       "<table border=\"1\" class=\"dataframe\">\n",
       "  <thead>\n",
       "    <tr style=\"text-align: right;\">\n",
       "      <th></th>\n",
       "      <th>amount</th>\n",
       "      <th>date_time_of_pickup</th>\n",
       "      <th>longitude_of_pickup</th>\n",
       "      <th>latitude_of_pickup</th>\n",
       "      <th>longitude_of_dropoff</th>\n",
       "      <th>latitude_of_dropoff</th>\n",
       "      <th>no_of_passenger</th>\n",
       "    </tr>\n",
       "  </thead>\n",
       "  <tbody>\n",
       "    <tr>\n",
       "      <th>0</th>\n",
       "      <td>4.5</td>\n",
       "      <td>2009-06-15 17:26:21 UTC</td>\n",
       "      <td>-73.844311</td>\n",
       "      <td>40.721319</td>\n",
       "      <td>-73.841610</td>\n",
       "      <td>40.712278</td>\n",
       "      <td>1</td>\n",
       "    </tr>\n",
       "    <tr>\n",
       "      <th>1</th>\n",
       "      <td>16.9</td>\n",
       "      <td>2010-01-05 16:52:16 UTC</td>\n",
       "      <td>-74.016048</td>\n",
       "      <td>40.711303</td>\n",
       "      <td>-73.979268</td>\n",
       "      <td>40.782004</td>\n",
       "      <td>1</td>\n",
       "    </tr>\n",
       "    <tr>\n",
       "      <th>2</th>\n",
       "      <td>5.7</td>\n",
       "      <td>2011-08-18 00:35:00 UTC</td>\n",
       "      <td>-73.982738</td>\n",
       "      <td>40.761270</td>\n",
       "      <td>-73.991242</td>\n",
       "      <td>40.750562</td>\n",
       "      <td>2</td>\n",
       "    </tr>\n",
       "    <tr>\n",
       "      <th>3</th>\n",
       "      <td>7.7</td>\n",
       "      <td>2012-04-21 04:30:42 UTC</td>\n",
       "      <td>-73.987130</td>\n",
       "      <td>40.733143</td>\n",
       "      <td>-73.991567</td>\n",
       "      <td>40.758092</td>\n",
       "      <td>1</td>\n",
       "    </tr>\n",
       "    <tr>\n",
       "      <th>4</th>\n",
       "      <td>5.3</td>\n",
       "      <td>2010-03-09 07:51:00 UTC</td>\n",
       "      <td>-73.968095</td>\n",
       "      <td>40.768008</td>\n",
       "      <td>-73.956655</td>\n",
       "      <td>40.783762</td>\n",
       "      <td>1</td>\n",
       "    </tr>\n",
       "  </tbody>\n",
       "</table>\n",
       "</div>"
      ],
      "text/plain": [
       "   amount      date_time_of_pickup  longitude_of_pickup  latitude_of_pickup  \\\n",
       "0     4.5  2009-06-15 17:26:21 UTC           -73.844311           40.721319   \n",
       "1    16.9  2010-01-05 16:52:16 UTC           -74.016048           40.711303   \n",
       "2     5.7  2011-08-18 00:35:00 UTC           -73.982738           40.761270   \n",
       "3     7.7  2012-04-21 04:30:42 UTC           -73.987130           40.733143   \n",
       "4     5.3  2010-03-09 07:51:00 UTC           -73.968095           40.768008   \n",
       "\n",
       "   longitude_of_dropoff  latitude_of_dropoff  no_of_passenger  \n",
       "0            -73.841610            40.712278                1  \n",
       "1            -73.979268            40.782004                1  \n",
       "2            -73.991242            40.750562                2  \n",
       "3            -73.991567            40.758092                1  \n",
       "4            -73.956655            40.783762                1  "
      ]
     },
     "execution_count": 4,
     "metadata": {},
     "output_type": "execute_result"
    }
   ],
   "source": [
    "# Getting Data by Pandas\n",
    "data=pd.read_csv('TaxiFare.csv')\n",
    "data.drop('unique_id',axis=1,inplace=True)\n",
    "data.head()"
   ]
  },
  {
   "cell_type": "markdown",
   "metadata": {},
   "source": [
    "#### Null Check"
   ]
  },
  {
   "cell_type": "code",
   "execution_count": 5,
   "metadata": {},
   "outputs": [
    {
     "data": {
      "text/plain": [
       "amount                  0\n",
       "date_time_of_pickup     0\n",
       "longitude_of_pickup     0\n",
       "latitude_of_pickup      0\n",
       "longitude_of_dropoff    0\n",
       "latitude_of_dropoff     0\n",
       "no_of_passenger         0\n",
       "dtype: int64"
      ]
     },
     "execution_count": 5,
     "metadata": {},
     "output_type": "execute_result"
    }
   ],
   "source": [
    "data.isnull().sum()"
   ]
  },
  {
   "cell_type": "markdown",
   "metadata": {},
   "source": [
    "### <font color=red>EDA And Visulization"
   ]
  },
  {
   "cell_type": "code",
   "execution_count": 6,
   "metadata": {},
   "outputs": [
    {
     "data": {
      "image/png": "[encoded data removed]",
      "text/plain": [
       "<Figure size 720x432 with 1 Axes>"
      ]
     },
     "metadata": {},
     "output_type": "display_data"
    }
   ],
   "source": [
    "\n",
    "sns.distplot(data['amount'],kde=True)\n",
    "plt.title('Fare Distribution')\n",
    "plt.show()"
   ]
  },
  {
   "cell_type": "code",
   "execution_count": 7,
   "metadata": {},
   "outputs": [
    {
     "data": {
      "text/plain": [
       "<AxesSubplot:xlabel='amount', ylabel='Density'>"
      ]
     },
     "execution_count": 7,
     "metadata": {},
     "output_type": "execute_result"
    },
    {
     "data": {
      "image/png": "[encoded data removed]",
      "text/plain": [
       "<Figure size 720x432 with 1 Axes>"
      ]
     },
     "metadata": {},
     "output_type": "display_data"
    }
   ],
   "source": [
    "\n",
    "plot_data=data[data.amount<60].amount\n",
    "sns.distplot(plot_data)"
   ]
  },
  {
   "cell_type": "code",
   "execution_count": 8,
   "metadata": {},
   "outputs": [
    {
     "data": {
      "text/html": [
       "<div>\n",
       "<style scoped>\n",
       "    .dataframe tbody tr th:only-of-type {\n",
       "        vertical-align: middle;\n",
       "    }\n",
       "\n",
       "    .dataframe tbody tr th {\n",
       "        vertical-align: top;\n",
       "    }\n",
       "\n",
       "    .dataframe thead th {\n",
       "        text-align: right;\n",
       "    }\n",
       "</style>\n",
       "<table border=\"1\" class=\"dataframe\">\n",
       "  <thead>\n",
       "    <tr style=\"text-align: right;\">\n",
       "      <th></th>\n",
       "      <th>amount</th>\n",
       "      <th>date_time_of_pickup</th>\n",
       "      <th>longitude_of_pickup</th>\n",
       "      <th>latitude_of_pickup</th>\n",
       "      <th>longitude_of_dropoff</th>\n",
       "      <th>latitude_of_dropoff</th>\n",
       "      <th>no_of_passenger</th>\n",
       "      <th>fare-bin</th>\n",
       "    </tr>\n",
       "  </thead>\n",
       "  <tbody>\n",
       "    <tr>\n",
       "      <th>0</th>\n",
       "      <td>4.5</td>\n",
       "      <td>2009-06-15 17:26:21 UTC</td>\n",
       "      <td>-73.844311</td>\n",
       "      <td>40.721319</td>\n",
       "      <td>-73.841610</td>\n",
       "      <td>40.712278</td>\n",
       "      <td>1</td>\n",
       "      <td>(0, 5.0]</td>\n",
       "    </tr>\n",
       "    <tr>\n",
       "      <th>1</th>\n",
       "      <td>16.9</td>\n",
       "      <td>2010-01-05 16:52:16 UTC</td>\n",
       "      <td>-74.016048</td>\n",
       "      <td>40.711303</td>\n",
       "      <td>-73.979268</td>\n",
       "      <td>40.782004</td>\n",
       "      <td>1</td>\n",
       "      <td>(15.0, 20.0]</td>\n",
       "    </tr>\n",
       "    <tr>\n",
       "      <th>2</th>\n",
       "      <td>5.7</td>\n",
       "      <td>2011-08-18 00:35:00 UTC</td>\n",
       "      <td>-73.982738</td>\n",
       "      <td>40.761270</td>\n",
       "      <td>-73.991242</td>\n",
       "      <td>40.750562</td>\n",
       "      <td>2</td>\n",
       "      <td>(5.0, 10.0]</td>\n",
       "    </tr>\n",
       "    <tr>\n",
       "      <th>3</th>\n",
       "      <td>7.7</td>\n",
       "      <td>2012-04-21 04:30:42 UTC</td>\n",
       "      <td>-73.987130</td>\n",
       "      <td>40.733143</td>\n",
       "      <td>-73.991567</td>\n",
       "      <td>40.758092</td>\n",
       "      <td>1</td>\n",
       "      <td>(5.0, 10.0]</td>\n",
       "    </tr>\n",
       "    <tr>\n",
       "      <th>4</th>\n",
       "      <td>5.3</td>\n",
       "      <td>2010-03-09 07:51:00 UTC</td>\n",
       "      <td>-73.968095</td>\n",
       "      <td>40.768008</td>\n",
       "      <td>-73.956655</td>\n",
       "      <td>40.783762</td>\n",
       "      <td>1</td>\n",
       "      <td>(5.0, 10.0]</td>\n",
       "    </tr>\n",
       "  </tbody>\n",
       "</table>\n",
       "</div>"
      ],
      "text/plain": [
       "   amount      date_time_of_pickup  longitude_of_pickup  latitude_of_pickup  \\\n",
       "0     4.5  2009-06-15 17:26:21 UTC           -73.844311           40.721319   \n",
       "1    16.9  2010-01-05 16:52:16 UTC           -74.016048           40.711303   \n",
       "2     5.7  2011-08-18 00:35:00 UTC           -73.982738           40.761270   \n",
       "3     7.7  2012-04-21 04:30:42 UTC           -73.987130           40.733143   \n",
       "4     5.3  2010-03-09 07:51:00 UTC           -73.968095           40.768008   \n",
       "\n",
       "   longitude_of_dropoff  latitude_of_dropoff  no_of_passenger      fare-bin  \n",
       "0            -73.841610            40.712278                1      (0, 5.0]  \n",
       "1            -73.979268            40.782004                1  (15.0, 20.0]  \n",
       "2            -73.991242            40.750562                2   (5.0, 10.0]  \n",
       "3            -73.991567            40.758092                1   (5.0, 10.0]  \n",
       "4            -73.956655            40.783762                1   (5.0, 10.0]  "
      ]
     },
     "execution_count": 8,
     "metadata": {},
     "output_type": "execute_result"
    }
   ],
   "source": [
    "data['fare-bin'] = pd.cut(data['amount'], bins = list(range(0, 50, 5)), include_lowest=True).astype('str')\n",
    "# Uppermost bin\n",
    "data['fare-bin'] = data['fare-bin'].replace(np.nan, '[45+]')\n",
    "data['fare-bin'] = data['fare-bin'].replace('nan', '[45+]')\n",
    "# apply this to clean up the first bin's label\n",
    "data['fare-bin'] = data['fare-bin'].apply(lambda x: x.replace('-0.001', '0'))\n",
    "data.head()"
   ]
  },
  {
   "cell_type": "code",
   "execution_count": 9,
   "metadata": {},
   "outputs": [
    {
     "data": {
      "image/png": "[encoded data removed]",
      "text/plain": [
       "<Figure size 1080x360 with 1 Axes>"
      ]
     },
     "metadata": {},
     "output_type": "display_data"
    }
   ],
   "source": [
    "# sort by fare the correct look in the chart\n",
    "data = data.sort_values(by='amount')\n",
    "sns.catplot(x=\"fare-bin\", kind=\"count\", palette= \"icefire\", data=data, height=5, aspect=3);\n",
    "sns.despine()\n",
    "plt.show()"
   ]
  },
  {
   "cell_type": "code",
   "execution_count": 10,
   "metadata": {},
   "outputs": [],
   "source": [
    "# pickup_datetime feature\n",
    "\n",
    "def create_date_time_feature(df):\n",
    "    time_column = \"date_time_of_pickup\"\n",
    "    df.index = pd.to_datetime(df[time_column])\n",
    "    df[\"dow\"] = df.index.weekday\n",
    "    df[\"hour\"] = df.index.hour\n",
    "    df[\"month\"] = df.index.month\n",
    "    df[\"year\"] = df.index.year\n",
    "    return df.reset_index(drop=True)"
   ]
  },
  {
   "cell_type": "code",
   "execution_count": 11,
   "metadata": {},
   "outputs": [
    {
     "data": {
      "text/html": [
       "<div>\n",
       "<style scoped>\n",
       "    .dataframe tbody tr th:only-of-type {\n",
       "        vertical-align: middle;\n",
       "    }\n",
       "\n",
       "    .dataframe tbody tr th {\n",
       "        vertical-align: top;\n",
       "    }\n",
       "\n",
       "    .dataframe thead th {\n",
       "        text-align: right;\n",
       "    }\n",
       "</style>\n",
       "<table border=\"1\" class=\"dataframe\">\n",
       "  <thead>\n",
       "    <tr style=\"text-align: right;\">\n",
       "      <th></th>\n",
       "      <th>amount</th>\n",
       "      <th>date_time_of_pickup</th>\n",
       "      <th>longitude_of_pickup</th>\n",
       "      <th>latitude_of_pickup</th>\n",
       "      <th>longitude_of_dropoff</th>\n",
       "      <th>latitude_of_dropoff</th>\n",
       "      <th>no_of_passenger</th>\n",
       "      <th>fare-bin</th>\n",
       "      <th>dow</th>\n",
       "      <th>hour</th>\n",
       "      <th>month</th>\n",
       "      <th>year</th>\n",
       "    </tr>\n",
       "  </thead>\n",
       "  <tbody>\n",
       "    <tr>\n",
       "      <th>0</th>\n",
       "      <td>-5.0</td>\n",
       "      <td>2015-03-09 10:29:46 UTC</td>\n",
       "      <td>-73.990974</td>\n",
       "      <td>40.755985</td>\n",
       "      <td>-73.980820</td>\n",
       "      <td>40.759869</td>\n",
       "      <td>1</td>\n",
       "      <td>[45+]</td>\n",
       "      <td>0</td>\n",
       "      <td>10</td>\n",
       "      <td>3</td>\n",
       "      <td>2015</td>\n",
       "    </tr>\n",
       "    <tr>\n",
       "      <th>1</th>\n",
       "      <td>-3.0</td>\n",
       "      <td>2013-08-30 08:57:10 UTC</td>\n",
       "      <td>-73.995062</td>\n",
       "      <td>40.740755</td>\n",
       "      <td>-73.995885</td>\n",
       "      <td>40.741357</td>\n",
       "      <td>4</td>\n",
       "      <td>[45+]</td>\n",
       "      <td>4</td>\n",
       "      <td>8</td>\n",
       "      <td>8</td>\n",
       "      <td>2013</td>\n",
       "    </tr>\n",
       "    <tr>\n",
       "      <th>2</th>\n",
       "      <td>-2.9</td>\n",
       "      <td>2010-03-09 23:37:10 UTC</td>\n",
       "      <td>-73.789450</td>\n",
       "      <td>40.643498</td>\n",
       "      <td>-73.788665</td>\n",
       "      <td>40.641952</td>\n",
       "      <td>1</td>\n",
       "      <td>[45+]</td>\n",
       "      <td>1</td>\n",
       "      <td>23</td>\n",
       "      <td>3</td>\n",
       "      <td>2010</td>\n",
       "    </tr>\n",
       "    <tr>\n",
       "      <th>3</th>\n",
       "      <td>-2.5</td>\n",
       "      <td>2015-04-30 15:19:45 UTC</td>\n",
       "      <td>-73.952187</td>\n",
       "      <td>40.790112</td>\n",
       "      <td>-73.950043</td>\n",
       "      <td>40.792839</td>\n",
       "      <td>1</td>\n",
       "      <td>[45+]</td>\n",
       "      <td>3</td>\n",
       "      <td>15</td>\n",
       "      <td>4</td>\n",
       "      <td>2015</td>\n",
       "    </tr>\n",
       "    <tr>\n",
       "      <th>4</th>\n",
       "      <td>-2.5</td>\n",
       "      <td>2015-03-22 05:14:27 UTC</td>\n",
       "      <td>-74.000031</td>\n",
       "      <td>40.720631</td>\n",
       "      <td>-73.999809</td>\n",
       "      <td>40.720539</td>\n",
       "      <td>1</td>\n",
       "      <td>[45+]</td>\n",
       "      <td>6</td>\n",
       "      <td>5</td>\n",
       "      <td>3</td>\n",
       "      <td>2015</td>\n",
       "    </tr>\n",
       "  </tbody>\n",
       "</table>\n",
       "</div>"
      ],
      "text/plain": [
       "   amount      date_time_of_pickup  longitude_of_pickup  latitude_of_pickup  \\\n",
       "0    -5.0  2015-03-09 10:29:46 UTC           -73.990974           40.755985   \n",
       "1    -3.0  2013-08-30 08:57:10 UTC           -73.995062           40.740755   \n",
       "2    -2.9  2010-03-09 23:37:10 UTC           -73.789450           40.643498   \n",
       "3    -2.5  2015-04-30 15:19:45 UTC           -73.952187           40.790112   \n",
       "4    -2.5  2015-03-22 05:14:27 UTC           -74.000031           40.720631   \n",
       "\n",
       "   longitude_of_dropoff  latitude_of_dropoff  no_of_passenger fare-bin  dow  \\\n",
       "0            -73.980820            40.759869                1    [45+]    0   \n",
       "1            -73.995885            40.741357                4    [45+]    4   \n",
       "2            -73.788665            40.641952                1    [45+]    1   \n",
       "3            -73.950043            40.792839                1    [45+]    3   \n",
       "4            -73.999809            40.720539                1    [45+]    6   \n",
       "\n",
       "   hour  month  year  \n",
       "0    10      3  2015  \n",
       "1     8      8  2013  \n",
       "2    23      3  2010  \n",
       "3    15      4  2015  \n",
       "4     5      3  2015  "
      ]
     },
     "execution_count": 11,
     "metadata": {},
     "output_type": "execute_result"
    }
   ],
   "source": [
    "data = create_date_time_feature(data)\n",
    "data.head()"
   ]
  },
  {
   "cell_type": "code",
   "execution_count": 12,
   "metadata": {},
   "outputs": [
    {
     "data": {
      "image/png": "[encoded data removed]",
      "text/plain": [
       "<Figure size 1080x360 with 1 Axes>"
      ]
     },
     "metadata": {},
     "output_type": "display_data"
    }
   ],
   "source": [
    "# taxi trip repartition by hour of the day\n",
    "\n",
    "sns.catplot(x=\"hour\", kind=\"count\", palette=\"icefire\", data=data, height=5, aspect=3);\n",
    "sns.despine()\n",
    "plt.title('Hour of Day');\n",
    "plt.show()"
   ]
  },
  {
   "cell_type": "code",
   "execution_count": 13,
   "metadata": {},
   "outputs": [
    {
     "data": {
      "image/png": "[encoded data removed]",
      "text/plain": [
       "<Figure size 720x432 with 1 Axes>"
      ]
     },
     "metadata": {},
     "output_type": "display_data"
    }
   ],
   "source": [
    "# taxi trip repartition by day of the week\n",
    "\n",
    "ax=sns.countplot(x=\"dow\", palette=\"icefire\", data=data)\n",
    "sns.despine()\n",
    "plt.title('Day of Week')\n",
    "for bar in ax.patches:\n",
    "    ax.annotate(format(bar.get_height()),\n",
    "    (bar.get_x()+bar.get_width()/3,bar.get_height()+10))\n"
   ]
  },
  {
   "cell_type": "markdown",
   "metadata": {},
   "source": [
    "- As 0 represent sunday and 6 is saturday,plot shows less trips count on weekend days.\n",
    "- weekdays shows more trip counts as are working days."
   ]
  },
  {
   "cell_type": "code",
   "execution_count": 14,
   "metadata": {},
   "outputs": [
    {
     "data": {
      "image/png": "[encoded data removed]",
      "text/plain": [
       "<Figure size 720x432 with 1 Axes>"
      ]
     },
     "metadata": {},
     "output_type": "display_data"
    }
   ],
   "source": [
    "# count of trips monthly distributed.\n",
    "ax=sns.countplot(x=\"month\", palette=\"icefire\", data=data)\n",
    "sns.despine()\n",
    "plt.title('month')\n",
    "for bar in ax.patches:\n",
    "    ax.annotate(format(bar.get_height()),\n",
    "    (bar.get_x()+bar.get_width()/3,bar.get_height()+10))"
   ]
  },
  {
   "cell_type": "code",
   "execution_count": 15,
   "metadata": {},
   "outputs": [
    {
     "data": {
      "text/plain": [
       "<AxesSubplot:>"
      ]
     },
     "execution_count": 15,
     "metadata": {},
     "output_type": "execute_result"
    },
    {
     "data": {
      "image/png": "[encoded data removed]",
      "text/plain": [
       "<Figure size 720x432 with 2 Axes>"
      ]
     },
     "metadata": {},
     "output_type": "display_data"
    }
   ],
   "source": [
    "# Corealtion of Variable.\n",
    "cor=data.corr()\n",
    "sns.heatmap(cor,annot=True)"
   ]
  },
  {
   "cell_type": "code",
   "execution_count": 16,
   "metadata": {},
   "outputs": [
    {
     "data": {
      "text/html": [
       "<div>\n",
       "<style scoped>\n",
       "    .dataframe tbody tr th:only-of-type {\n",
       "        vertical-align: middle;\n",
       "    }\n",
       "\n",
       "    .dataframe tbody tr th {\n",
       "        vertical-align: top;\n",
       "    }\n",
       "\n",
       "    .dataframe thead th {\n",
       "        text-align: right;\n",
       "    }\n",
       "</style>\n",
       "<table border=\"1\" class=\"dataframe\">\n",
       "  <thead>\n",
       "    <tr style=\"text-align: right;\">\n",
       "      <th></th>\n",
       "      <th>amount</th>\n",
       "      <th>date_time_of_pickup</th>\n",
       "      <th>longitude_of_pickup</th>\n",
       "      <th>latitude_of_pickup</th>\n",
       "      <th>longitude_of_dropoff</th>\n",
       "      <th>latitude_of_dropoff</th>\n",
       "      <th>no_of_passenger</th>\n",
       "      <th>fare-bin</th>\n",
       "      <th>dow</th>\n",
       "      <th>hour</th>\n",
       "      <th>month</th>\n",
       "      <th>year</th>\n",
       "    </tr>\n",
       "  </thead>\n",
       "  <tbody>\n",
       "    <tr>\n",
       "      <th>0</th>\n",
       "      <td>-5.0</td>\n",
       "      <td>2015-03-09 10:29:46 UTC</td>\n",
       "      <td>-73.990974</td>\n",
       "      <td>40.755985</td>\n",
       "      <td>-73.980820</td>\n",
       "      <td>40.759869</td>\n",
       "      <td>1</td>\n",
       "      <td>[45+]</td>\n",
       "      <td>0</td>\n",
       "      <td>10</td>\n",
       "      <td>3</td>\n",
       "      <td>2015</td>\n",
       "    </tr>\n",
       "    <tr>\n",
       "      <th>1</th>\n",
       "      <td>-3.0</td>\n",
       "      <td>2013-08-30 08:57:10 UTC</td>\n",
       "      <td>-73.995062</td>\n",
       "      <td>40.740755</td>\n",
       "      <td>-73.995885</td>\n",
       "      <td>40.741357</td>\n",
       "      <td>4</td>\n",
       "      <td>[45+]</td>\n",
       "      <td>4</td>\n",
       "      <td>8</td>\n",
       "      <td>8</td>\n",
       "      <td>2013</td>\n",
       "    </tr>\n",
       "    <tr>\n",
       "      <th>2</th>\n",
       "      <td>-2.9</td>\n",
       "      <td>2010-03-09 23:37:10 UTC</td>\n",
       "      <td>-73.789450</td>\n",
       "      <td>40.643498</td>\n",
       "      <td>-73.788665</td>\n",
       "      <td>40.641952</td>\n",
       "      <td>1</td>\n",
       "      <td>[45+]</td>\n",
       "      <td>1</td>\n",
       "      <td>23</td>\n",
       "      <td>3</td>\n",
       "      <td>2010</td>\n",
       "    </tr>\n",
       "    <tr>\n",
       "      <th>3</th>\n",
       "      <td>-2.5</td>\n",
       "      <td>2015-04-30 15:19:45 UTC</td>\n",
       "      <td>-73.952187</td>\n",
       "      <td>40.790112</td>\n",
       "      <td>-73.950043</td>\n",
       "      <td>40.792839</td>\n",
       "      <td>1</td>\n",
       "      <td>[45+]</td>\n",
       "      <td>3</td>\n",
       "      <td>15</td>\n",
       "      <td>4</td>\n",
       "      <td>2015</td>\n",
       "    </tr>\n",
       "    <tr>\n",
       "      <th>4</th>\n",
       "      <td>-2.5</td>\n",
       "      <td>2015-03-22 05:14:27 UTC</td>\n",
       "      <td>-74.000031</td>\n",
       "      <td>40.720631</td>\n",
       "      <td>-73.999809</td>\n",
       "      <td>40.720539</td>\n",
       "      <td>1</td>\n",
       "      <td>[45+]</td>\n",
       "      <td>6</td>\n",
       "      <td>5</td>\n",
       "      <td>3</td>\n",
       "      <td>2015</td>\n",
       "    </tr>\n",
       "  </tbody>\n",
       "</table>\n",
       "</div>"
      ],
      "text/plain": [
       "   amount      date_time_of_pickup  longitude_of_pickup  latitude_of_pickup  \\\n",
       "0    -5.0  2015-03-09 10:29:46 UTC           -73.990974           40.755985   \n",
       "1    -3.0  2013-08-30 08:57:10 UTC           -73.995062           40.740755   \n",
       "2    -2.9  2010-03-09 23:37:10 UTC           -73.789450           40.643498   \n",
       "3    -2.5  2015-04-30 15:19:45 UTC           -73.952187           40.790112   \n",
       "4    -2.5  2015-03-22 05:14:27 UTC           -74.000031           40.720631   \n",
       "\n",
       "   longitude_of_dropoff  latitude_of_dropoff  no_of_passenger fare-bin  dow  \\\n",
       "0            -73.980820            40.759869                1    [45+]    0   \n",
       "1            -73.995885            40.741357                4    [45+]    4   \n",
       "2            -73.788665            40.641952                1    [45+]    1   \n",
       "3            -73.950043            40.792839                1    [45+]    3   \n",
       "4            -73.999809            40.720539                1    [45+]    6   \n",
       "\n",
       "   hour  month  year  \n",
       "0    10      3  2015  \n",
       "1     8      8  2013  \n",
       "2    23      3  2010  \n",
       "3    15      4  2015  \n",
       "4     5      3  2015  "
      ]
     },
     "execution_count": 16,
     "metadata": {},
     "output_type": "execute_result"
    }
   ],
   "source": [
    "# Checking data.\n",
    "data.head(5)"
   ]
  },
  {
   "cell_type": "code",
   "execution_count": 17,
   "metadata": {},
   "outputs": [
    {
     "data": {
      "text/html": [
       "<div>\n",
       "<style scoped>\n",
       "    .dataframe tbody tr th:only-of-type {\n",
       "        vertical-align: middle;\n",
       "    }\n",
       "\n",
       "    .dataframe tbody tr th {\n",
       "        vertical-align: top;\n",
       "    }\n",
       "\n",
       "    .dataframe thead th {\n",
       "        text-align: right;\n",
       "    }\n",
       "</style>\n",
       "<table border=\"1\" class=\"dataframe\">\n",
       "  <thead>\n",
       "    <tr style=\"text-align: right;\">\n",
       "      <th></th>\n",
       "      <th>amount</th>\n",
       "      <th>longitude_of_pickup</th>\n",
       "      <th>latitude_of_pickup</th>\n",
       "      <th>longitude_of_dropoff</th>\n",
       "      <th>latitude_of_dropoff</th>\n",
       "      <th>no_of_passenger</th>\n",
       "      <th>dow</th>\n",
       "      <th>hour</th>\n",
       "      <th>month</th>\n",
       "      <th>year</th>\n",
       "    </tr>\n",
       "  </thead>\n",
       "  <tbody>\n",
       "    <tr>\n",
       "      <th>count</th>\n",
       "      <td>50000.000000</td>\n",
       "      <td>50000.000000</td>\n",
       "      <td>50000.000000</td>\n",
       "      <td>50000.000000</td>\n",
       "      <td>50000.000000</td>\n",
       "      <td>50000.000000</td>\n",
       "      <td>50000.000000</td>\n",
       "      <td>50000.000000</td>\n",
       "      <td>50000.000000</td>\n",
       "      <td>50000.000000</td>\n",
       "    </tr>\n",
       "    <tr>\n",
       "      <th>mean</th>\n",
       "      <td>11.364171</td>\n",
       "      <td>-72.509756</td>\n",
       "      <td>39.933759</td>\n",
       "      <td>-72.504616</td>\n",
       "      <td>39.926251</td>\n",
       "      <td>1.667840</td>\n",
       "      <td>3.029980</td>\n",
       "      <td>13.489080</td>\n",
       "      <td>6.273300</td>\n",
       "      <td>2011.739260</td>\n",
       "    </tr>\n",
       "    <tr>\n",
       "      <th>std</th>\n",
       "      <td>9.685557</td>\n",
       "      <td>10.393860</td>\n",
       "      <td>6.224857</td>\n",
       "      <td>10.407570</td>\n",
       "      <td>6.014737</td>\n",
       "      <td>1.289195</td>\n",
       "      <td>1.956936</td>\n",
       "      <td>6.506935</td>\n",
       "      <td>3.461157</td>\n",
       "      <td>1.862639</td>\n",
       "    </tr>\n",
       "    <tr>\n",
       "      <th>min</th>\n",
       "      <td>-5.000000</td>\n",
       "      <td>-75.423848</td>\n",
       "      <td>-74.006893</td>\n",
       "      <td>-84.654241</td>\n",
       "      <td>-74.006377</td>\n",
       "      <td>0.000000</td>\n",
       "      <td>0.000000</td>\n",
       "      <td>0.000000</td>\n",
       "      <td>1.000000</td>\n",
       "      <td>2009.000000</td>\n",
       "    </tr>\n",
       "    <tr>\n",
       "      <th>25%</th>\n",
       "      <td>6.000000</td>\n",
       "      <td>-73.992062</td>\n",
       "      <td>40.734880</td>\n",
       "      <td>-73.991152</td>\n",
       "      <td>40.734372</td>\n",
       "      <td>1.000000</td>\n",
       "      <td>1.000000</td>\n",
       "      <td>9.000000</td>\n",
       "      <td>3.000000</td>\n",
       "      <td>2010.000000</td>\n",
       "    </tr>\n",
       "    <tr>\n",
       "      <th>50%</th>\n",
       "      <td>8.500000</td>\n",
       "      <td>-73.981840</td>\n",
       "      <td>40.752678</td>\n",
       "      <td>-73.980082</td>\n",
       "      <td>40.753372</td>\n",
       "      <td>1.000000</td>\n",
       "      <td>3.000000</td>\n",
       "      <td>14.000000</td>\n",
       "      <td>6.000000</td>\n",
       "      <td>2012.000000</td>\n",
       "    </tr>\n",
       "    <tr>\n",
       "      <th>75%</th>\n",
       "      <td>12.500000</td>\n",
       "      <td>-73.967148</td>\n",
       "      <td>40.767360</td>\n",
       "      <td>-73.963584</td>\n",
       "      <td>40.768167</td>\n",
       "      <td>2.000000</td>\n",
       "      <td>5.000000</td>\n",
       "      <td>19.000000</td>\n",
       "      <td>9.000000</td>\n",
       "      <td>2013.000000</td>\n",
       "    </tr>\n",
       "    <tr>\n",
       "      <th>max</th>\n",
       "      <td>200.000000</td>\n",
       "      <td>40.783472</td>\n",
       "      <td>401.083332</td>\n",
       "      <td>40.851027</td>\n",
       "      <td>43.415190</td>\n",
       "      <td>6.000000</td>\n",
       "      <td>6.000000</td>\n",
       "      <td>23.000000</td>\n",
       "      <td>12.000000</td>\n",
       "      <td>2015.000000</td>\n",
       "    </tr>\n",
       "  </tbody>\n",
       "</table>\n",
       "</div>"
      ],
      "text/plain": [
       "             amount  longitude_of_pickup  latitude_of_pickup  \\\n",
       "count  50000.000000         50000.000000        50000.000000   \n",
       "mean      11.364171           -72.509756           39.933759   \n",
       "std        9.685557            10.393860            6.224857   \n",
       "min       -5.000000           -75.423848          -74.006893   \n",
       "25%        6.000000           -73.992062           40.734880   \n",
       "50%        8.500000           -73.981840           40.752678   \n",
       "75%       12.500000           -73.967148           40.767360   \n",
       "max      200.000000            40.783472          401.083332   \n",
       "\n",
       "       longitude_of_dropoff  latitude_of_dropoff  no_of_passenger  \\\n",
       "count          50000.000000         50000.000000     50000.000000   \n",
       "mean             -72.504616            39.926251         1.667840   \n",
       "std               10.407570             6.014737         1.289195   \n",
       "min              -84.654241           -74.006377         0.000000   \n",
       "25%              -73.991152            40.734372         1.000000   \n",
       "50%              -73.980082            40.753372         1.000000   \n",
       "75%              -73.963584            40.768167         2.000000   \n",
       "max               40.851027            43.415190         6.000000   \n",
       "\n",
       "                dow          hour         month          year  \n",
       "count  50000.000000  50000.000000  50000.000000  50000.000000  \n",
       "mean       3.029980     13.489080      6.273300   2011.739260  \n",
       "std        1.956936      6.506935      3.461157      1.862639  \n",
       "min        0.000000      0.000000      1.000000   2009.000000  \n",
       "25%        1.000000      9.000000      3.000000   2010.000000  \n",
       "50%        3.000000     14.000000      6.000000   2012.000000  \n",
       "75%        5.000000     19.000000      9.000000   2013.000000  \n",
       "max        6.000000     23.000000     12.000000   2015.000000  "
      ]
     },
     "execution_count": 17,
     "metadata": {},
     "output_type": "execute_result"
    }
   ],
   "source": [
    "# Data Discription.\n",
    "data.describe()"
   ]
  },
  {
   "cell_type": "markdown",
   "metadata": {},
   "source": [
    "### <center>Feature Engineering</center>"
   ]
  },
  {
   "cell_type": "code",
   "execution_count": 18,
   "metadata": {},
   "outputs": [],
   "source": [
    "# Preprocessing Dataset:\n",
    "df=data.copy() # creating a copy of dataset for further changes to apply on a copy .\n",
    "df=df.drop(['date_time_of_pickup','fare-bin'],axis=1) #Dropping columns as new Features created from that columns.\n",
    "\n",
    "df = df.dropna(how='any', axis='rows') # Dropping all Null values.\n",
    "df = df[(df.latitude_of_dropoff != 0) | (df.longitude_of_dropoff != 0)]# Dropping false values .\n",
    "df = df[(df.latitude_of_pickup != 0) | (df.longitude_of_pickup != 0)] # Dropping false values .\n",
    "df = df[df.no_of_passenger < 8] # Dropping false values as no more passengers should be in taxi than 8.\n",
    "df = df[df.no_of_passenger > 0] # Dropping false values as if no passengers are there so fare not valid.\n",
    "df = df[df[\"latitude_of_pickup\"].between(left=40, right=42)] # Fixing Range of new-york city\n",
    "df = df[df[\"longitude_of_pickup\"].between(left=-74.3, right=-72.9)] # Fixing Range of new-york city\n",
    "df = df[df[\"latitude_of_dropoff\"].between(left=40, right=42)] # Fixing Range of new-york city\n",
    "df = df[df[\"longitude_of_dropoff\"].between(left=-74, right=-72.9)] # Fixing Range of new-york city\n",
    "df = df[df.amount <= 200] #Removing outliers in FARE  \n",
    "df = df[df.amount > 0] #Removing outliers in FARE\n"
   ]
  },
  {
   "cell_type": "code",
   "execution_count": 19,
   "metadata": {},
   "outputs": [
    {
     "name": "stdout",
     "output_type": "stream",
     "text": [
      "original data count: 50000\n",
      "cleaned data count: 42383\n"
     ]
    }
   ],
   "source": [
    "# Counting difference in data.\n",
    "print('original data count:',len(data))\n",
    "print('cleaned data count:',len(df))"
   ]
  },
  {
   "cell_type": "code",
   "execution_count": 20,
   "metadata": {},
   "outputs": [],
   "source": [
    "# Shuffling data\n",
    "df=df.sample(frac=1)\n",
    "df.reset_index(drop=True,inplace=True)"
   ]
  },
  {
   "cell_type": "code",
   "execution_count": 21,
   "metadata": {},
   "outputs": [],
   "source": [
    "#Vectorized version of the haversine distance \n",
    "#Computes distance in kms\n",
    "\n",
    "def haversine_distance(df,\n",
    "                       start_lat=\"start_lat\",\n",
    "                       start_lon=\"start_lon\",\n",
    "                       end_lat=\"end_lat\",\n",
    "                       end_lon=\"end_lon\"):\n",
    "    \n",
    "\n",
    "\n",
    "    lat_1_rad, lon_1_rad = np.radians(df[start_lat].astype(float)), np.radians(df[start_lon].astype(float))\n",
    "    lat_2_rad, lon_2_rad = np.radians(df[end_lat].astype(float)), np.radians(df[end_lon].astype(float))\n",
    "    dlon = lon_2_rad - lon_1_rad\n",
    "    dlat = lat_2_rad - lat_1_rad\n",
    "\n",
    "    a = np.sin(dlat / 2.0) ** 2 + np.cos(lat_1_rad) * np.cos(lat_2_rad) * np.sin(dlon / 2.0) ** 2\n",
    "    c = 2 * np.arcsin(np.sqrt(a))\n",
    "    haversine_distance = 6371 * c\n",
    "    return haversine_distance\n",
    "\n"
   ]
  },
  {
   "cell_type": "code",
   "execution_count": 22,
   "metadata": {},
   "outputs": [],
   "source": [
    "# Creating distance feature from Cordinates\n",
    "df[\"distance\"] = haversine_distance(df, \n",
    "                                      start_lat=\"latitude_of_pickup\", start_lon=\"longitude_of_pickup\",\n",
    "                                      end_lat=\"latitude_of_dropoff\", end_lon=\"longitude_of_dropoff\"\n",
    "                                     )"
   ]
  },
  {
   "cell_type": "code",
   "execution_count": 23,
   "metadata": {},
   "outputs": [
    {
     "data": {
      "text/html": [
       "<div>\n",
       "<style scoped>\n",
       "    .dataframe tbody tr th:only-of-type {\n",
       "        vertical-align: middle;\n",
       "    }\n",
       "\n",
       "    .dataframe tbody tr th {\n",
       "        vertical-align: top;\n",
       "    }\n",
       "\n",
       "    .dataframe thead th {\n",
       "        text-align: right;\n",
       "    }\n",
       "</style>\n",
       "<table border=\"1\" class=\"dataframe\">\n",
       "  <thead>\n",
       "    <tr style=\"text-align: right;\">\n",
       "      <th></th>\n",
       "      <th>amount</th>\n",
       "      <th>no_of_passenger</th>\n",
       "      <th>dow</th>\n",
       "      <th>hour</th>\n",
       "      <th>month</th>\n",
       "      <th>distance</th>\n",
       "    </tr>\n",
       "  </thead>\n",
       "  <tbody>\n",
       "    <tr>\n",
       "      <th>0</th>\n",
       "      <td>9.70</td>\n",
       "      <td>1</td>\n",
       "      <td>1</td>\n",
       "      <td>18</td>\n",
       "      <td>7</td>\n",
       "      <td>2.120179</td>\n",
       "    </tr>\n",
       "    <tr>\n",
       "      <th>1</th>\n",
       "      <td>42.04</td>\n",
       "      <td>1</td>\n",
       "      <td>1</td>\n",
       "      <td>10</td>\n",
       "      <td>5</td>\n",
       "      <td>8.066146</td>\n",
       "    </tr>\n",
       "    <tr>\n",
       "      <th>2</th>\n",
       "      <td>5.00</td>\n",
       "      <td>1</td>\n",
       "      <td>6</td>\n",
       "      <td>0</td>\n",
       "      <td>8</td>\n",
       "      <td>0.640944</td>\n",
       "    </tr>\n",
       "    <tr>\n",
       "      <th>3</th>\n",
       "      <td>16.00</td>\n",
       "      <td>2</td>\n",
       "      <td>4</td>\n",
       "      <td>20</td>\n",
       "      <td>1</td>\n",
       "      <td>5.329908</td>\n",
       "    </tr>\n",
       "    <tr>\n",
       "      <th>4</th>\n",
       "      <td>7.30</td>\n",
       "      <td>1</td>\n",
       "      <td>2</td>\n",
       "      <td>10</td>\n",
       "      <td>6</td>\n",
       "      <td>2.149592</td>\n",
       "    </tr>\n",
       "  </tbody>\n",
       "</table>\n",
       "</div>"
      ],
      "text/plain": [
       "   amount  no_of_passenger  dow  hour  month  distance\n",
       "0    9.70                1    1    18      7  2.120179\n",
       "1   42.04                1    1    10      5  8.066146\n",
       "2    5.00                1    6     0      8  0.640944\n",
       "3   16.00                2    4    20      1  5.329908\n",
       "4    7.30                1    2    10      6  2.149592"
      ]
     },
     "execution_count": 23,
     "metadata": {},
     "output_type": "execute_result"
    }
   ],
   "source": [
    "# Creating Copy of data.\n",
    "data1=df.copy()\n",
    "#Drop unwanted columns like the coordinates and the year column .\n",
    "data1=data1.drop([data1.columns[1],data1.columns[2],data1.columns[3],data1.columns[4],data1.columns[9]],axis=1)\n",
    "# Check Data\n",
    "data1.head()"
   ]
  },
  {
   "cell_type": "code",
   "execution_count": 24,
   "metadata": {},
   "outputs": [],
   "source": [
    "# Change hours categories\n",
    "\n",
    "interval = [0,4,8,12,16,20,24]\n",
    "names = ['Late Night', 'Early Morning','Morning','Noon','Eve','Night']\n",
    "data1['hour'] = pd.cut(data1['hour'], bins=interval, labels=names, include_lowest=True)\n",
    "\n",
    "# Change month to seasons\n",
    "def getSeason(month):\n",
    "    if (month == 12 or month == 1 or month == 2 or month == 3):\n",
    "       return \"WINTER\"\n",
    "    elif(month == 4 or month == 5):\n",
    "       return \"SPRING\"\n",
    "    elif(month == 6 or month== 7 or month == 8 or month == 9):\n",
    "       return \"SUMMER\"\n",
    "    else:\n",
    "       return \"FALL\"\n"
   ]
  },
  {
   "cell_type": "code",
   "execution_count": 25,
   "metadata": {},
   "outputs": [
    {
     "data": {
      "text/html": [
       "<div>\n",
       "<style scoped>\n",
       "    .dataframe tbody tr th:only-of-type {\n",
       "        vertical-align: middle;\n",
       "    }\n",
       "\n",
       "    .dataframe tbody tr th {\n",
       "        vertical-align: top;\n",
       "    }\n",
       "\n",
       "    .dataframe thead th {\n",
       "        text-align: right;\n",
       "    }\n",
       "</style>\n",
       "<table border=\"1\" class=\"dataframe\">\n",
       "  <thead>\n",
       "    <tr style=\"text-align: right;\">\n",
       "      <th></th>\n",
       "      <th>amount</th>\n",
       "      <th>no_of_passenger</th>\n",
       "      <th>dow</th>\n",
       "      <th>hour</th>\n",
       "      <th>month</th>\n",
       "      <th>distance</th>\n",
       "    </tr>\n",
       "  </thead>\n",
       "  <tbody>\n",
       "    <tr>\n",
       "      <th>0</th>\n",
       "      <td>9.70</td>\n",
       "      <td>1</td>\n",
       "      <td>1</td>\n",
       "      <td>Eve</td>\n",
       "      <td>SUMMER</td>\n",
       "      <td>2.120179</td>\n",
       "    </tr>\n",
       "    <tr>\n",
       "      <th>1</th>\n",
       "      <td>42.04</td>\n",
       "      <td>1</td>\n",
       "      <td>1</td>\n",
       "      <td>Morning</td>\n",
       "      <td>SPRING</td>\n",
       "      <td>8.066146</td>\n",
       "    </tr>\n",
       "    <tr>\n",
       "      <th>2</th>\n",
       "      <td>5.00</td>\n",
       "      <td>1</td>\n",
       "      <td>6</td>\n",
       "      <td>Late Night</td>\n",
       "      <td>SUMMER</td>\n",
       "      <td>0.640944</td>\n",
       "    </tr>\n",
       "    <tr>\n",
       "      <th>3</th>\n",
       "      <td>16.00</td>\n",
       "      <td>2</td>\n",
       "      <td>4</td>\n",
       "      <td>Eve</td>\n",
       "      <td>WINTER</td>\n",
       "      <td>5.329908</td>\n",
       "    </tr>\n",
       "    <tr>\n",
       "      <th>4</th>\n",
       "      <td>7.30</td>\n",
       "      <td>1</td>\n",
       "      <td>2</td>\n",
       "      <td>Morning</td>\n",
       "      <td>SUMMER</td>\n",
       "      <td>2.149592</td>\n",
       "    </tr>\n",
       "  </tbody>\n",
       "</table>\n",
       "</div>"
      ],
      "text/plain": [
       "   amount  no_of_passenger  dow        hour   month  distance\n",
       "0    9.70                1    1         Eve  SUMMER  2.120179\n",
       "1   42.04                1    1     Morning  SPRING  8.066146\n",
       "2    5.00                1    6  Late Night  SUMMER  0.640944\n",
       "3   16.00                2    4         Eve  WINTER  5.329908\n",
       "4    7.30                1    2     Morning  SUMMER  2.149592"
      ]
     },
     "execution_count": 25,
     "metadata": {},
     "output_type": "execute_result"
    }
   ],
   "source": [
    "data1.month=data1.month.apply(getSeason)\n",
    "data1.head()"
   ]
  },
  {
   "cell_type": "code",
   "execution_count": 26,
   "metadata": {},
   "outputs": [
    {
     "data": {
      "text/html": [
       "<div>\n",
       "<style scoped>\n",
       "    .dataframe tbody tr th:only-of-type {\n",
       "        vertical-align: middle;\n",
       "    }\n",
       "\n",
       "    .dataframe tbody tr th {\n",
       "        vertical-align: top;\n",
       "    }\n",
       "\n",
       "    .dataframe thead th {\n",
       "        text-align: right;\n",
       "    }\n",
       "</style>\n",
       "<table border=\"1\" class=\"dataframe\">\n",
       "  <thead>\n",
       "    <tr style=\"text-align: right;\">\n",
       "      <th></th>\n",
       "      <th>amount</th>\n",
       "      <th>no_of_passenger</th>\n",
       "      <th>distance</th>\n",
       "      <th>dow_0</th>\n",
       "      <th>dow_1</th>\n",
       "      <th>dow_2</th>\n",
       "      <th>dow_3</th>\n",
       "      <th>dow_4</th>\n",
       "      <th>dow_5</th>\n",
       "      <th>dow_6</th>\n",
       "      <th>hour_Late Night</th>\n",
       "      <th>hour_Early Morning</th>\n",
       "      <th>hour_Morning</th>\n",
       "      <th>hour_Noon</th>\n",
       "      <th>hour_Eve</th>\n",
       "      <th>hour_Night</th>\n",
       "      <th>month_FALL</th>\n",
       "      <th>month_SPRING</th>\n",
       "      <th>month_SUMMER</th>\n",
       "      <th>month_WINTER</th>\n",
       "    </tr>\n",
       "  </thead>\n",
       "  <tbody>\n",
       "    <tr>\n",
       "      <th>0</th>\n",
       "      <td>9.70</td>\n",
       "      <td>1</td>\n",
       "      <td>2.120179</td>\n",
       "      <td>0</td>\n",
       "      <td>1</td>\n",
       "      <td>0</td>\n",
       "      <td>0</td>\n",
       "      <td>0</td>\n",
       "      <td>0</td>\n",
       "      <td>0</td>\n",
       "      <td>0</td>\n",
       "      <td>0</td>\n",
       "      <td>0</td>\n",
       "      <td>0</td>\n",
       "      <td>1</td>\n",
       "      <td>0</td>\n",
       "      <td>0</td>\n",
       "      <td>0</td>\n",
       "      <td>1</td>\n",
       "      <td>0</td>\n",
       "    </tr>\n",
       "    <tr>\n",
       "      <th>1</th>\n",
       "      <td>42.04</td>\n",
       "      <td>1</td>\n",
       "      <td>8.066146</td>\n",
       "      <td>0</td>\n",
       "      <td>1</td>\n",
       "      <td>0</td>\n",
       "      <td>0</td>\n",
       "      <td>0</td>\n",
       "      <td>0</td>\n",
       "      <td>0</td>\n",
       "      <td>0</td>\n",
       "      <td>0</td>\n",
       "      <td>1</td>\n",
       "      <td>0</td>\n",
       "      <td>0</td>\n",
       "      <td>0</td>\n",
       "      <td>0</td>\n",
       "      <td>1</td>\n",
       "      <td>0</td>\n",
       "      <td>0</td>\n",
       "    </tr>\n",
       "    <tr>\n",
       "      <th>2</th>\n",
       "      <td>5.00</td>\n",
       "      <td>1</td>\n",
       "      <td>0.640944</td>\n",
       "      <td>0</td>\n",
       "      <td>0</td>\n",
       "      <td>0</td>\n",
       "      <td>0</td>\n",
       "      <td>0</td>\n",
       "      <td>0</td>\n",
       "      <td>1</td>\n",
       "      <td>1</td>\n",
       "      <td>0</td>\n",
       "      <td>0</td>\n",
       "      <td>0</td>\n",
       "      <td>0</td>\n",
       "      <td>0</td>\n",
       "      <td>0</td>\n",
       "      <td>0</td>\n",
       "      <td>1</td>\n",
       "      <td>0</td>\n",
       "    </tr>\n",
       "    <tr>\n",
       "      <th>3</th>\n",
       "      <td>16.00</td>\n",
       "      <td>2</td>\n",
       "      <td>5.329908</td>\n",
       "      <td>0</td>\n",
       "      <td>0</td>\n",
       "      <td>0</td>\n",
       "      <td>0</td>\n",
       "      <td>1</td>\n",
       "      <td>0</td>\n",
       "      <td>0</td>\n",
       "      <td>0</td>\n",
       "      <td>0</td>\n",
       "      <td>0</td>\n",
       "      <td>0</td>\n",
       "      <td>1</td>\n",
       "      <td>0</td>\n",
       "      <td>0</td>\n",
       "      <td>0</td>\n",
       "      <td>0</td>\n",
       "      <td>1</td>\n",
       "    </tr>\n",
       "    <tr>\n",
       "      <th>4</th>\n",
       "      <td>7.30</td>\n",
       "      <td>1</td>\n",
       "      <td>2.149592</td>\n",
       "      <td>0</td>\n",
       "      <td>0</td>\n",
       "      <td>1</td>\n",
       "      <td>0</td>\n",
       "      <td>0</td>\n",
       "      <td>0</td>\n",
       "      <td>0</td>\n",
       "      <td>0</td>\n",
       "      <td>0</td>\n",
       "      <td>1</td>\n",
       "      <td>0</td>\n",
       "      <td>0</td>\n",
       "      <td>0</td>\n",
       "      <td>0</td>\n",
       "      <td>0</td>\n",
       "      <td>1</td>\n",
       "      <td>0</td>\n",
       "    </tr>\n",
       "  </tbody>\n",
       "</table>\n",
       "</div>"
      ],
      "text/plain": [
       "   amount  no_of_passenger  distance  dow_0  dow_1  dow_2  dow_3  dow_4  \\\n",
       "0    9.70                1  2.120179      0      1      0      0      0   \n",
       "1   42.04                1  8.066146      0      1      0      0      0   \n",
       "2    5.00                1  0.640944      0      0      0      0      0   \n",
       "3   16.00                2  5.329908      0      0      0      0      1   \n",
       "4    7.30                1  2.149592      0      0      1      0      0   \n",
       "\n",
       "   dow_5  dow_6  hour_Late Night  hour_Early Morning  hour_Morning  hour_Noon  \\\n",
       "0      0      0                0                   0             0          0   \n",
       "1      0      0                0                   0             1          0   \n",
       "2      0      1                1                   0             0          0   \n",
       "3      0      0                0                   0             0          0   \n",
       "4      0      0                0                   0             1          0   \n",
       "\n",
       "   hour_Eve  hour_Night  month_FALL  month_SPRING  month_SUMMER  month_WINTER  \n",
       "0         1           0           0             0             1             0  \n",
       "1         0           0           0             1             0             0  \n",
       "2         0           0           0             0             1             0  \n",
       "3         1           0           0             0             0             1  \n",
       "4         0           0           0             0             1             0  "
      ]
     },
     "execution_count": 26,
     "metadata": {},
     "output_type": "execute_result"
    }
   ],
   "source": [
    "data1['dow']=data1['dow'].astype('object')\n",
    "data1=pd.get_dummies(data1)\n",
    "data1.head()"
   ]
  },
  {
   "cell_type": "markdown",
   "metadata": {},
   "source": [
    "### <center>Machine Learning Models</center>"
   ]
  },
  {
   "cell_type": "markdown",
   "metadata": {},
   "source": [
    "#### Model Preprocessing"
   ]
  },
  {
   "cell_type": "code",
   "execution_count": 27,
   "metadata": {},
   "outputs": [],
   "source": [
    "x=data1.drop('amount',axis=1)\n",
    "y=data1.amount"
   ]
  },
  {
   "cell_type": "markdown",
   "metadata": {},
   "source": [
    "#### Model Building"
   ]
  },
  {
   "cell_type": "code",
   "execution_count": 28,
   "metadata": {},
   "outputs": [],
   "source": [
    "def model_performance(x,y,scaler,itr):\n",
    "    if scaler=='minmax':\n",
    "        scaler=MinMaxScaler()\n",
    "    elif scaler=='standerd':\n",
    "        scaler=StandardScaler()\n",
    "    x_scale=scaler.fit_transform(x)\n",
    "\n",
    "    train_x,test_x,train_y,test_y=train_test_split(x_scale,y,test_size=0.30)\n",
    "\n",
    "    model1=RandomForestRegressor(n_estimators=itr,max_depth=10,n_jobs=-1).fit(train_x,train_y)\n",
    "    pred1=model1.predict(test_x)\n",
    "\n",
    "    model2=LinearRegression().fit(train_x,train_y)\n",
    "    pred2=model2.predict(test_x)\n",
    "\n",
    "    rf_rmse=np.sqrt(mean_squared_error(test_y,pred1))\n",
    "    linear=np.sqrt(mean_squared_error(test_y,pred2))\n",
    "\n",
    "\n",
    "    return (model1,print(f\"Result:\\n\\tTest Rmse by random forest regression:{rf_rmse}\\n\\tTest RMSE by Linear regression:{linear}\"))\n"
   ]
  },
  {
   "cell_type": "code",
   "execution_count": 29,
   "metadata": {},
   "outputs": [
    {
     "name": "stdout",
     "output_type": "stream",
     "text": [
      "Result:\n",
      "\tTest Rmse by random forest regression:4.822590544412908\n",
      "\tTest RMSE by Linear regression:6.401495168042977\n"
     ]
    }
   ],
   "source": [
    "model1=model_performance(x,y,'minmax',200)"
   ]
  },
  {
   "cell_type": "code",
   "execution_count": 30,
   "metadata": {},
   "outputs": [
    {
     "name": "stdout",
     "output_type": "stream",
     "text": [
      "Result:\n",
      "\tTest Rmse by random forest regression:4.661796413815889\n",
      "\tTest RMSE by Linear regression:5.453633066493117\n"
     ]
    }
   ],
   "source": [
    "model2=model_performance(x,y,'standerd',200)"
   ]
  },
  {
   "cell_type": "code",
   "execution_count": 31,
   "metadata": {},
   "outputs": [],
   "source": [
    "scaler=StandardScaler()\n",
    "x_scale=scaler.fit_transform(x)\n",
    "\n",
    "train_x,test_x,train_y,test_y=train_test_split(x_scale,y,test_size=0.30)\n",
    "\n",
    "# Model with Hyperparameters tuning.\n",
    "# create an instance of the RandomForestRegressor class\n",
    "clf = RandomForestRegressor()\n",
    "# build the Hyperparameters\n",
    "params = {\"criterion\":[ \"mse\"],\n",
    " \"max_depth\": np.arange(2,4),\n",
    " \"min_samples_leaf\":np.arange(2,5),\n",
    " \"min_samples_split\":np.arange(2,5),\n",
    " \"max_features\":['auto','sqrt']\n",
    " }\n",
    "\n",
    "# run the GridSearch CV\n",
    "grid = GridSearchCV(clf,param_grid=params,scoring='r2',cv=10,n_jobs=-1).fit(train_x,train_y)"
   ]
  },
  {
   "cell_type": "code",
   "execution_count": 32,
   "metadata": {},
   "outputs": [],
   "source": [
    "# best parameters from Gridsearch :\n",
    "bp=grid.best_params_"
   ]
  },
  {
   "cell_type": "code",
   "execution_count": 33,
   "metadata": {},
   "outputs": [],
   "source": [
    "# scaling data:\n",
    "scaler=StandardScaler()\n",
    "x_scale=scaler.fit_transform(x)\n",
    "\n",
    "train_x,test_x,train_y,test_y=train_test_split(x_scale,y,test_size=0.30)"
   ]
  },
  {
   "cell_type": "code",
   "execution_count": 34,
   "metadata": {},
   "outputs": [
    {
     "name": "stdout",
     "output_type": "stream",
     "text": [
      "Result:\n",
      "\tTest Rmse by random forest regression: 4.863\n"
     ]
    }
   ],
   "source": [
    "# Model on Best parameters :\n",
    "itr=200\n",
    "model=RandomForestRegressor(n_estimators=itr,criterion=bp['criterion'],max_depth=bp['max_depth'],max_features=bp['max_features'],\n",
    "                            min_samples_leaf=bp['min_samples_leaf'],min_samples_split=bp['min_samples_split'],n_jobs=-1).fit(train_x,train_y)\n",
    "pred1=model.predict(test_x)\n",
    "\n",
    "rf_rmse=np.sqrt(mean_squared_error(test_y,pred1))\n",
    "\n",
    "print(\"Result:\\n\\tTest Rmse by random forest regression: {:.3f}\".format(rf_rmse))\n"
   ]
  }
 ],
 "metadata": {
  "interpreter": {
   "hash": "5ff896c5f3048bd18696267a92c15cadfdd14d9309d75fba0a15808bc8a4c7c4"
  },
  "kernelspec": {
   "display_name": "Python 3.8.11 64-bit ('base': conda)",
   "name": "python3"
  },
  "language_info": {
   "codemirror_mode": {
    "name": "ipython",
    "version": 3
   },
   "file_extension": ".py",
   "mimetype": "text/x-python",
   "name": "python",
   "nbconvert_exporter": "python",
   "pygments_lexer": "ipython3",
   "version": "3.8.11"
  }
 },
 "nbformat": 4,
 "nbformat_minor": 2
}
